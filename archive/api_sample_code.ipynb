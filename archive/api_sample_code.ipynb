{
 "cells": [
  {
   "cell_type": "markdown",
   "metadata": {},
   "source": [
    "# API Sample Code"
   ]
  },
  {
   "cell_type": "markdown",
   "metadata": {},
   "source": [
    "Authors: Harry Yan et al.\n",
    "\n",
    "Date: 2024-11-12\n",
    "\n",
    "Description: This is a sample code for accessing OpenAI API.\n",
    "\n",
    "It contains the API keys that shared by LLM_bot team, at Stanford Social Media Lab, Cyber Policy Center. \n",
    "\n",
    "Please note:\n",
    "* DO NOT SHARE THIS CODE TO PUBLIC or ANYONE OUTSIDE THE TEAM.\n",
    "\n",
    "* DO NOT USE THIS CODE FOR OTHER PROJECTS WITHIN THE LAB"
   ]
  },
  {
   "cell_type": "code",
   "execution_count": 21,
   "metadata": {},
   "outputs": [],
   "source": [
    "import openai\n",
    "import json as js"
   ]
  },
  {
   "cell_type": "code",
   "execution_count": 27,
   "metadata": {},
   "outputs": [],
   "source": [
    "\n",
    "# Set your OpenAI API key\n",
    "openai.api_key = 'XXXXXX'\n",
    "## DO NOT SHARE THIS API KEY TO PUBLIC or ANYONE OUTSIDE THE TEAM.\n",
    "## DO NOT USE THIS CODE FOR OTHER PROJECTS WITHIN THE LAB"
   ]
  },
  {
   "cell_type": "code",
   "execution_count": 44,
   "metadata": {},
   "outputs": [],
   "source": [
    "# Define a function to get a response from the OpenAI API\n",
    "def get_openai_response(user_prompt, prompt):\n",
    "    try:\n",
    "        # Call the OpenAI API using the new interface\n",
    "        response = openai.chat.completions.create(\n",
    "            model=\"gpt-4o-mini\",  # Use the appropriate model\n",
    "            messages=[\n",
    "                {\"role\": \"system\", \"content\": user_prompt},\n",
    "                {\"role\": \"user\", \"content\": prompt}\n",
    "            ],\n",
    "            max_tokens=150  # Adjust the number of tokens as needed\n",
    "        )\n",
    "        # Extract the text from the response\n",
    "        return response\n",
    "    except Exception as e:\n",
    "        return f\"An error occurred: {e}\"\n"
   ]
  },
  {
   "cell_type": "code",
   "execution_count": 53,
   "metadata": {},
   "outputs": [],
   "source": [
    "user_prompt = \"You are a typitcal Twitter user. \\\n",
    "    You are given a tweet and you need to generate a response to the tweet. \\\n",
    "        The reply must have a internet-friendly spin with abbreviations and cyber lingo.\\\n",
    "        Do not start with 'Reply:'. \\\n",
    "        Just write up the tweet response.\\\n",
    "        Make sure the response has negative sentiment.\"\n",
    "prompt = \"The tweet is: Hold y'all heads out there people in Baltimore Md #KeepThePeace #StopTheViolence #BlacklivesMatter #FreddieGray 🙌🏾🙌🏾🙌🏾🙌🏾🙏🏾🙏🏾🙏🏾🙏🏾🙏🏾\"\n",
    "response = get_openai_response(user_prompt, prompt)\n"
   ]
  },
  {
   "cell_type": "code",
   "execution_count": 54,
   "metadata": {},
   "outputs": [
    {
     "data": {
      "text/plain": [
       "'Lol, but like, is this gonna change anything? 🤔 Smh, kinda feels like empty hashtags at this point. #WheresTheAction? 🙄'"
      ]
     },
     "execution_count": 54,
     "metadata": {},
     "output_type": "execute_result"
    }
   ],
   "source": [
    "response.choices[0].message.content"
   ]
  },
  {
   "cell_type": "code",
   "execution_count": null,
   "metadata": {},
   "outputs": [],
   "source": []
  }
 ],
 "metadata": {
  "kernelspec": {
   "display_name": "benchmarking-creativity-nbm55LEq-py3.12",
   "language": "python",
   "name": "python3"
  },
  "language_info": {
   "codemirror_mode": {
    "name": "ipython",
    "version": 3
   },
   "file_extension": ".py",
   "mimetype": "text/x-python",
   "name": "python",
   "nbconvert_exporter": "python",
   "pygments_lexer": "ipython3",
   "version": "3.12.4"
  }
 },
 "nbformat": 4,
 "nbformat_minor": 2
}
