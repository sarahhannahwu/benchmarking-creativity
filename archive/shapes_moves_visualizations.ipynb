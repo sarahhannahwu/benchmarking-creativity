{
 "cells": [
  {
   "cell_type": "markdown",
   "metadata": {},
   "source": [
    "## Decode shape binaries"
   ]
  },
  {
   "cell_type": "code",
   "execution_count": 4,
   "metadata": {},
   "outputs": [
    {
     "ename": "FileNotFoundError",
     "evalue": "[Errno 2] No such file or directory: '/Users/ronaldr/Downloads/Creative Foraging Game Data 1.0/Games/20120613_122200.txt'",
     "output_type": "error",
     "traceback": [
      "\u001b[0;31m---------------------------------------------------------------------------\u001b[0m",
      "\u001b[0;31mFileNotFoundError\u001b[0m                         Traceback (most recent call last)",
      "Cell \u001b[0;32mIn[4], line 38\u001b[0m\n\u001b[1;32m     35\u001b[0m fp \u001b[38;5;241m=\u001b[39m \u001b[38;5;124m\"\u001b[39m\u001b[38;5;124m/Users/ronaldr/Downloads/Creative Foraging Game Data 1.0/Games/20120613_122200.txt\u001b[39m\u001b[38;5;124m\"\u001b[39m\n\u001b[1;32m     37\u001b[0m \u001b[38;5;66;03m# Load and name columns\u001b[39;00m\n\u001b[0;32m---> 38\u001b[0m df \u001b[38;5;241m=\u001b[39m \u001b[43mpd\u001b[49m\u001b[38;5;241;43m.\u001b[39;49m\u001b[43mread_csv\u001b[49m\u001b[43m(\u001b[49m\u001b[43mfp\u001b[49m\u001b[43m,\u001b[49m\u001b[43m \u001b[49m\u001b[43msep\u001b[49m\u001b[38;5;241;43m=\u001b[39;49m\u001b[38;5;124;43m\"\u001b[39;49m\u001b[38;5;130;43;01m\\t\u001b[39;49;00m\u001b[38;5;124;43m\"\u001b[39;49m\u001b[43m,\u001b[49m\u001b[43m \u001b[49m\u001b[43mheader\u001b[49m\u001b[38;5;241;43m=\u001b[39;49m\u001b[38;5;28;43;01mNone\u001b[39;49;00m\u001b[43m)\u001b[49m\n\u001b[1;32m     39\u001b[0m df\u001b[38;5;241m.\u001b[39mcolumns \u001b[38;5;241m=\u001b[39m [\u001b[38;5;124m\"\u001b[39m\u001b[38;5;124mshape\u001b[39m\u001b[38;5;124m\"\u001b[39m, \u001b[38;5;124m\"\u001b[39m\u001b[38;5;124mtimestamp\u001b[39m\u001b[38;5;124m\"\u001b[39m, \u001b[38;5;124m\"\u001b[39m\u001b[38;5;124mtimestamp_gallery\u001b[39m\u001b[38;5;124m\"\u001b[39m] \u001b[38;5;66;03m# add column names\u001b[39;00m\n\u001b[1;32m     40\u001b[0m \u001b[38;5;28mprint\u001b[39m(df\u001b[38;5;241m.\u001b[39mshape)\n",
      "File \u001b[0;32m~/Library/Caches/pypoetry/virtualenvs/benchmarking-creativity-nbm55LEq-py3.12/lib/python3.12/site-packages/pandas/io/parsers/readers.py:1026\u001b[0m, in \u001b[0;36mread_csv\u001b[0;34m(filepath_or_buffer, sep, delimiter, header, names, index_col, usecols, dtype, engine, converters, true_values, false_values, skipinitialspace, skiprows, skipfooter, nrows, na_values, keep_default_na, na_filter, verbose, skip_blank_lines, parse_dates, infer_datetime_format, keep_date_col, date_parser, date_format, dayfirst, cache_dates, iterator, chunksize, compression, thousands, decimal, lineterminator, quotechar, quoting, doublequote, escapechar, comment, encoding, encoding_errors, dialect, on_bad_lines, delim_whitespace, low_memory, memory_map, float_precision, storage_options, dtype_backend)\u001b[0m\n\u001b[1;32m   1013\u001b[0m kwds_defaults \u001b[38;5;241m=\u001b[39m _refine_defaults_read(\n\u001b[1;32m   1014\u001b[0m     dialect,\n\u001b[1;32m   1015\u001b[0m     delimiter,\n\u001b[0;32m   (...)\u001b[0m\n\u001b[1;32m   1022\u001b[0m     dtype_backend\u001b[38;5;241m=\u001b[39mdtype_backend,\n\u001b[1;32m   1023\u001b[0m )\n\u001b[1;32m   1024\u001b[0m kwds\u001b[38;5;241m.\u001b[39mupdate(kwds_defaults)\n\u001b[0;32m-> 1026\u001b[0m \u001b[38;5;28;01mreturn\u001b[39;00m \u001b[43m_read\u001b[49m\u001b[43m(\u001b[49m\u001b[43mfilepath_or_buffer\u001b[49m\u001b[43m,\u001b[49m\u001b[43m \u001b[49m\u001b[43mkwds\u001b[49m\u001b[43m)\u001b[49m\n",
      "File \u001b[0;32m~/Library/Caches/pypoetry/virtualenvs/benchmarking-creativity-nbm55LEq-py3.12/lib/python3.12/site-packages/pandas/io/parsers/readers.py:620\u001b[0m, in \u001b[0;36m_read\u001b[0;34m(filepath_or_buffer, kwds)\u001b[0m\n\u001b[1;32m    617\u001b[0m _validate_names(kwds\u001b[38;5;241m.\u001b[39mget(\u001b[38;5;124m\"\u001b[39m\u001b[38;5;124mnames\u001b[39m\u001b[38;5;124m\"\u001b[39m, \u001b[38;5;28;01mNone\u001b[39;00m))\n\u001b[1;32m    619\u001b[0m \u001b[38;5;66;03m# Create the parser.\u001b[39;00m\n\u001b[0;32m--> 620\u001b[0m parser \u001b[38;5;241m=\u001b[39m \u001b[43mTextFileReader\u001b[49m\u001b[43m(\u001b[49m\u001b[43mfilepath_or_buffer\u001b[49m\u001b[43m,\u001b[49m\u001b[43m \u001b[49m\u001b[38;5;241;43m*\u001b[39;49m\u001b[38;5;241;43m*\u001b[39;49m\u001b[43mkwds\u001b[49m\u001b[43m)\u001b[49m\n\u001b[1;32m    622\u001b[0m \u001b[38;5;28;01mif\u001b[39;00m chunksize \u001b[38;5;129;01mor\u001b[39;00m iterator:\n\u001b[1;32m    623\u001b[0m     \u001b[38;5;28;01mreturn\u001b[39;00m parser\n",
      "File \u001b[0;32m~/Library/Caches/pypoetry/virtualenvs/benchmarking-creativity-nbm55LEq-py3.12/lib/python3.12/site-packages/pandas/io/parsers/readers.py:1620\u001b[0m, in \u001b[0;36mTextFileReader.__init__\u001b[0;34m(self, f, engine, **kwds)\u001b[0m\n\u001b[1;32m   1617\u001b[0m     \u001b[38;5;28mself\u001b[39m\u001b[38;5;241m.\u001b[39moptions[\u001b[38;5;124m\"\u001b[39m\u001b[38;5;124mhas_index_names\u001b[39m\u001b[38;5;124m\"\u001b[39m] \u001b[38;5;241m=\u001b[39m kwds[\u001b[38;5;124m\"\u001b[39m\u001b[38;5;124mhas_index_names\u001b[39m\u001b[38;5;124m\"\u001b[39m]\n\u001b[1;32m   1619\u001b[0m \u001b[38;5;28mself\u001b[39m\u001b[38;5;241m.\u001b[39mhandles: IOHandles \u001b[38;5;241m|\u001b[39m \u001b[38;5;28;01mNone\u001b[39;00m \u001b[38;5;241m=\u001b[39m \u001b[38;5;28;01mNone\u001b[39;00m\n\u001b[0;32m-> 1620\u001b[0m \u001b[38;5;28mself\u001b[39m\u001b[38;5;241m.\u001b[39m_engine \u001b[38;5;241m=\u001b[39m \u001b[38;5;28;43mself\u001b[39;49m\u001b[38;5;241;43m.\u001b[39;49m\u001b[43m_make_engine\u001b[49m\u001b[43m(\u001b[49m\u001b[43mf\u001b[49m\u001b[43m,\u001b[49m\u001b[43m \u001b[49m\u001b[38;5;28;43mself\u001b[39;49m\u001b[38;5;241;43m.\u001b[39;49m\u001b[43mengine\u001b[49m\u001b[43m)\u001b[49m\n",
      "File \u001b[0;32m~/Library/Caches/pypoetry/virtualenvs/benchmarking-creativity-nbm55LEq-py3.12/lib/python3.12/site-packages/pandas/io/parsers/readers.py:1880\u001b[0m, in \u001b[0;36mTextFileReader._make_engine\u001b[0;34m(self, f, engine)\u001b[0m\n\u001b[1;32m   1878\u001b[0m     \u001b[38;5;28;01mif\u001b[39;00m \u001b[38;5;124m\"\u001b[39m\u001b[38;5;124mb\u001b[39m\u001b[38;5;124m\"\u001b[39m \u001b[38;5;129;01mnot\u001b[39;00m \u001b[38;5;129;01min\u001b[39;00m mode:\n\u001b[1;32m   1879\u001b[0m         mode \u001b[38;5;241m+\u001b[39m\u001b[38;5;241m=\u001b[39m \u001b[38;5;124m\"\u001b[39m\u001b[38;5;124mb\u001b[39m\u001b[38;5;124m\"\u001b[39m\n\u001b[0;32m-> 1880\u001b[0m \u001b[38;5;28mself\u001b[39m\u001b[38;5;241m.\u001b[39mhandles \u001b[38;5;241m=\u001b[39m \u001b[43mget_handle\u001b[49m\u001b[43m(\u001b[49m\n\u001b[1;32m   1881\u001b[0m \u001b[43m    \u001b[49m\u001b[43mf\u001b[49m\u001b[43m,\u001b[49m\n\u001b[1;32m   1882\u001b[0m \u001b[43m    \u001b[49m\u001b[43mmode\u001b[49m\u001b[43m,\u001b[49m\n\u001b[1;32m   1883\u001b[0m \u001b[43m    \u001b[49m\u001b[43mencoding\u001b[49m\u001b[38;5;241;43m=\u001b[39;49m\u001b[38;5;28;43mself\u001b[39;49m\u001b[38;5;241;43m.\u001b[39;49m\u001b[43moptions\u001b[49m\u001b[38;5;241;43m.\u001b[39;49m\u001b[43mget\u001b[49m\u001b[43m(\u001b[49m\u001b[38;5;124;43m\"\u001b[39;49m\u001b[38;5;124;43mencoding\u001b[39;49m\u001b[38;5;124;43m\"\u001b[39;49m\u001b[43m,\u001b[49m\u001b[43m \u001b[49m\u001b[38;5;28;43;01mNone\u001b[39;49;00m\u001b[43m)\u001b[49m\u001b[43m,\u001b[49m\n\u001b[1;32m   1884\u001b[0m \u001b[43m    \u001b[49m\u001b[43mcompression\u001b[49m\u001b[38;5;241;43m=\u001b[39;49m\u001b[38;5;28;43mself\u001b[39;49m\u001b[38;5;241;43m.\u001b[39;49m\u001b[43moptions\u001b[49m\u001b[38;5;241;43m.\u001b[39;49m\u001b[43mget\u001b[49m\u001b[43m(\u001b[49m\u001b[38;5;124;43m\"\u001b[39;49m\u001b[38;5;124;43mcompression\u001b[39;49m\u001b[38;5;124;43m\"\u001b[39;49m\u001b[43m,\u001b[49m\u001b[43m \u001b[49m\u001b[38;5;28;43;01mNone\u001b[39;49;00m\u001b[43m)\u001b[49m\u001b[43m,\u001b[49m\n\u001b[1;32m   1885\u001b[0m \u001b[43m    \u001b[49m\u001b[43mmemory_map\u001b[49m\u001b[38;5;241;43m=\u001b[39;49m\u001b[38;5;28;43mself\u001b[39;49m\u001b[38;5;241;43m.\u001b[39;49m\u001b[43moptions\u001b[49m\u001b[38;5;241;43m.\u001b[39;49m\u001b[43mget\u001b[49m\u001b[43m(\u001b[49m\u001b[38;5;124;43m\"\u001b[39;49m\u001b[38;5;124;43mmemory_map\u001b[39;49m\u001b[38;5;124;43m\"\u001b[39;49m\u001b[43m,\u001b[49m\u001b[43m \u001b[49m\u001b[38;5;28;43;01mFalse\u001b[39;49;00m\u001b[43m)\u001b[49m\u001b[43m,\u001b[49m\n\u001b[1;32m   1886\u001b[0m \u001b[43m    \u001b[49m\u001b[43mis_text\u001b[49m\u001b[38;5;241;43m=\u001b[39;49m\u001b[43mis_text\u001b[49m\u001b[43m,\u001b[49m\n\u001b[1;32m   1887\u001b[0m \u001b[43m    \u001b[49m\u001b[43merrors\u001b[49m\u001b[38;5;241;43m=\u001b[39;49m\u001b[38;5;28;43mself\u001b[39;49m\u001b[38;5;241;43m.\u001b[39;49m\u001b[43moptions\u001b[49m\u001b[38;5;241;43m.\u001b[39;49m\u001b[43mget\u001b[49m\u001b[43m(\u001b[49m\u001b[38;5;124;43m\"\u001b[39;49m\u001b[38;5;124;43mencoding_errors\u001b[39;49m\u001b[38;5;124;43m\"\u001b[39;49m\u001b[43m,\u001b[49m\u001b[43m \u001b[49m\u001b[38;5;124;43m\"\u001b[39;49m\u001b[38;5;124;43mstrict\u001b[39;49m\u001b[38;5;124;43m\"\u001b[39;49m\u001b[43m)\u001b[49m\u001b[43m,\u001b[49m\n\u001b[1;32m   1888\u001b[0m \u001b[43m    \u001b[49m\u001b[43mstorage_options\u001b[49m\u001b[38;5;241;43m=\u001b[39;49m\u001b[38;5;28;43mself\u001b[39;49m\u001b[38;5;241;43m.\u001b[39;49m\u001b[43moptions\u001b[49m\u001b[38;5;241;43m.\u001b[39;49m\u001b[43mget\u001b[49m\u001b[43m(\u001b[49m\u001b[38;5;124;43m\"\u001b[39;49m\u001b[38;5;124;43mstorage_options\u001b[39;49m\u001b[38;5;124;43m\"\u001b[39;49m\u001b[43m,\u001b[49m\u001b[43m \u001b[49m\u001b[38;5;28;43;01mNone\u001b[39;49;00m\u001b[43m)\u001b[49m\u001b[43m,\u001b[49m\n\u001b[1;32m   1889\u001b[0m \u001b[43m\u001b[49m\u001b[43m)\u001b[49m\n\u001b[1;32m   1890\u001b[0m \u001b[38;5;28;01massert\u001b[39;00m \u001b[38;5;28mself\u001b[39m\u001b[38;5;241m.\u001b[39mhandles \u001b[38;5;129;01mis\u001b[39;00m \u001b[38;5;129;01mnot\u001b[39;00m \u001b[38;5;28;01mNone\u001b[39;00m\n\u001b[1;32m   1891\u001b[0m f \u001b[38;5;241m=\u001b[39m \u001b[38;5;28mself\u001b[39m\u001b[38;5;241m.\u001b[39mhandles\u001b[38;5;241m.\u001b[39mhandle\n",
      "File \u001b[0;32m~/Library/Caches/pypoetry/virtualenvs/benchmarking-creativity-nbm55LEq-py3.12/lib/python3.12/site-packages/pandas/io/common.py:873\u001b[0m, in \u001b[0;36mget_handle\u001b[0;34m(path_or_buf, mode, encoding, compression, memory_map, is_text, errors, storage_options)\u001b[0m\n\u001b[1;32m    868\u001b[0m \u001b[38;5;28;01melif\u001b[39;00m \u001b[38;5;28misinstance\u001b[39m(handle, \u001b[38;5;28mstr\u001b[39m):\n\u001b[1;32m    869\u001b[0m     \u001b[38;5;66;03m# Check whether the filename is to be opened in binary mode.\u001b[39;00m\n\u001b[1;32m    870\u001b[0m     \u001b[38;5;66;03m# Binary mode does not support 'encoding' and 'newline'.\u001b[39;00m\n\u001b[1;32m    871\u001b[0m     \u001b[38;5;28;01mif\u001b[39;00m ioargs\u001b[38;5;241m.\u001b[39mencoding \u001b[38;5;129;01mand\u001b[39;00m \u001b[38;5;124m\"\u001b[39m\u001b[38;5;124mb\u001b[39m\u001b[38;5;124m\"\u001b[39m \u001b[38;5;129;01mnot\u001b[39;00m \u001b[38;5;129;01min\u001b[39;00m ioargs\u001b[38;5;241m.\u001b[39mmode:\n\u001b[1;32m    872\u001b[0m         \u001b[38;5;66;03m# Encoding\u001b[39;00m\n\u001b[0;32m--> 873\u001b[0m         handle \u001b[38;5;241m=\u001b[39m \u001b[38;5;28;43mopen\u001b[39;49m\u001b[43m(\u001b[49m\n\u001b[1;32m    874\u001b[0m \u001b[43m            \u001b[49m\u001b[43mhandle\u001b[49m\u001b[43m,\u001b[49m\n\u001b[1;32m    875\u001b[0m \u001b[43m            \u001b[49m\u001b[43mioargs\u001b[49m\u001b[38;5;241;43m.\u001b[39;49m\u001b[43mmode\u001b[49m\u001b[43m,\u001b[49m\n\u001b[1;32m    876\u001b[0m \u001b[43m            \u001b[49m\u001b[43mencoding\u001b[49m\u001b[38;5;241;43m=\u001b[39;49m\u001b[43mioargs\u001b[49m\u001b[38;5;241;43m.\u001b[39;49m\u001b[43mencoding\u001b[49m\u001b[43m,\u001b[49m\n\u001b[1;32m    877\u001b[0m \u001b[43m            \u001b[49m\u001b[43merrors\u001b[49m\u001b[38;5;241;43m=\u001b[39;49m\u001b[43merrors\u001b[49m\u001b[43m,\u001b[49m\n\u001b[1;32m    878\u001b[0m \u001b[43m            \u001b[49m\u001b[43mnewline\u001b[49m\u001b[38;5;241;43m=\u001b[39;49m\u001b[38;5;124;43m\"\u001b[39;49m\u001b[38;5;124;43m\"\u001b[39;49m\u001b[43m,\u001b[49m\n\u001b[1;32m    879\u001b[0m \u001b[43m        \u001b[49m\u001b[43m)\u001b[49m\n\u001b[1;32m    880\u001b[0m     \u001b[38;5;28;01melse\u001b[39;00m:\n\u001b[1;32m    881\u001b[0m         \u001b[38;5;66;03m# Binary mode\u001b[39;00m\n\u001b[1;32m    882\u001b[0m         handle \u001b[38;5;241m=\u001b[39m \u001b[38;5;28mopen\u001b[39m(handle, ioargs\u001b[38;5;241m.\u001b[39mmode)\n",
      "\u001b[0;31mFileNotFoundError\u001b[0m: [Errno 2] No such file or directory: '/Users/ronaldr/Downloads/Creative Foraging Game Data 1.0/Games/20120613_122200.txt'"
     ]
    }
   ],
   "source": [
    "import pandas as pd\n",
    "\n",
    "def decode_shape_binaries_str(encoded_str, bits=10):\n",
    "    \"\"\"\n",
    "    Decodes a single string of space-separated decimal codes into\n",
    "    a 2D list (shape) of 0/1 bits. Each code becomes one row in the shape.\n",
    "\n",
    "    :param encoded_str: A single string with space-separated decimal values\n",
    "                        (e.g., \"1016 64 64 64\").\n",
    "    :param bits: The fixed width of the binary representation (default=10).\n",
    "    :return: A list of lists, where each sub-list is a row of bits (0's and 1's).\n",
    "    \"\"\"\n",
    "    # Split the string by spaces to get each code as a separate token\n",
    "    codes = encoded_str.split()\n",
    "\n",
    "    shape = []\n",
    "    for code in codes:\n",
    "        # Convert the code (string) to an integer\n",
    "        number = int(code)\n",
    "\n",
    "        # Convert to binary, left-padded with zeros to the desired bit length\n",
    "        binary_str = format(number, 'b').rjust(bits, '0')\n",
    "\n",
    "        # Convert the binary string into a list of integer bits (0 or 1)\n",
    "        row_of_bits = [int(bit) for bit in binary_str]\n",
    "        shape.append(row_of_bits)\n",
    "\n",
    "    return shape\n",
    "\n",
    "\n",
    "\n",
    "    \n",
    "# Test with a single participant's game data\n",
    "# fp = \"/Users/sarawu/Desktop/CAB/benchmarking-creativity/creative-foraging-human-data/Games/20120613_122200.txt\"\n",
    "fp = \"/Users/ronaldr/Downloads/Creative Foraging Game Data 1.0/Games/20120613_122200.txt\"\n",
    "\n",
    "# Load and name columns\n",
    "df = pd.read_csv(fp, sep=\"\\t\", header=None)\n",
    "df.columns = [\"shape\", \"timestamp\", \"timestamp_gallery\"] # add column names\n",
    "print(df.shape)\n",
    "display(df.head())\n",
    "\n",
    "# Decode the shape binaries\n",
    "df['shape_matrix'] = df['shape'].apply(decode_shape_binaries_str) # Create a column that contains the shape matrix, applied to each row\n",
    "df['shape_matrix_str'] = df['shape'].apply(lambda x: \"\\n\".join([\"\".join(map(str, row)) for row in decode_shape_binaries_str(x)]))\n"
   ]
  },
  {
   "cell_type": "code",
   "execution_count": null,
   "metadata": {},
   "outputs": [
    {
     "data": {
      "text/plain": [
       "'512 448 896'"
      ]
     },
     "execution_count": 3,
     "metadata": {},
     "output_type": "execute_result"
    }
   ],
   "source": [
    "# Function to reverse the decoding for the task instructions \n",
    "def encode_shape_binaries(shape, bits=10):\n",
    "    \"\"\"\n",
    "    Encodes a 2D list (shape) of 0/1 bits into a single string of\n",
    "    space-separated decimal codes. Each row in the shape becomes one code.\n",
    "\n",
    "    :param shape: A list of lists, where each sub-list is a row of bits (0's and 1's).\n",
    "    :param bits: The fixed width of the binary representation (default=10).\n",
    "    :return: A single string with space-separated decimal values.\n",
    "    \"\"\"\n",
    "    codes = []\n",
    "    for row in shape:\n",
    "        # Convert the list of bits into a single binary string\n",
    "        binary_str = ''.join([str(bit) for bit in row])\n",
    "\n",
    "        # Convert the binary string to an integer\n",
    "        number = int(binary_str, 2)\n",
    "\n",
    "        # Append the integer as a string to the list of codes\n",
    "        codes.append(str(number))\n",
    "\n",
    "    # Join the list of codes into a single string with space separators\n",
    "    return ' '.join(codes)\n",
    "\n",
    "encode_shape_binaries([[1,0,0,0,0,0,0,0,0,0], [0,1,1,1,0,0,0,0,0,0], [1,1,1,0,0,0,0,0,0,0]])"
   ]
  },
  {
   "cell_type": "code",
   "execution_count": null,
   "metadata": {},
   "outputs": [],
   "source": []
  },
  {
   "cell_type": "code",
   "execution_count": null,
   "metadata": {},
   "outputs": [
    {
     "name": "stdout",
     "output_type": "stream",
     "text": [
      "   0  1  2  3  4  5  6  7  8  9\n",
      "0  1  0  0  0  0  0  0  0  0  0\n",
      "1  1  1  1  1  1  1  1  1  1  0 \n",
      "\n",
      "   0  1  2  3  4  5  6  7  8  9\n",
      "0  1  0  0  0  0  0  0  0  0  0\n",
      "1  1  1  1  1  1  1  1  1  0  0\n",
      "2  0  0  0  0  0  0  0  1  0  0 \n",
      "\n",
      "   0  1  2  3  4  5  6  7  8  9\n",
      "0  2  0  0  0  0  0  0  0  0  0\n",
      "1  2  2  2  2  2  2  2  2  1  0\n",
      "2  0  0  0  0  0  0  0  0  0  0\n"
     ]
    }
   ],
   "source": [
    "# Example shape matrices\n",
    "tab1 = pd.DataFrame(df.iloc[2]['shape_matrix'])\n",
    "tab2 = pd.DataFrame(df.iloc[3]['shape_matrix'])\n",
    "print(tab1, '\\n')\n",
    "print(tab2, '\\n')\n",
    "print((tab1 + tab2).fillna(0).astype(int))\n"
   ]
  },
  {
   "cell_type": "code",
   "execution_count": null,
   "metadata": {},
   "outputs": [
    {
     "name": "stdout",
     "output_type": "stream",
     "text": [
      "--------------------------------\n",
      "1023 \n",
      "\n"
     ]
    },
    {
     "data": {
      "image/png": "[encoded data removed]",
      "text/plain": [
       "<Figure size 500x200 with 2 Axes>"
      ]
     },
     "metadata": {},
     "output_type": "display_data"
    },
    {
     "name": "stdout",
     "output_type": "stream",
     "text": [
      "\n",
      "\n",
      "--------------------------------\n",
      "1023 \n",
      "\n"
     ]
    },
    {
     "data": {
      "image/png": "[encoded data removed]",
      "text/plain": [
       "<Figure size 500x200 with 2 Axes>"
      ]
     },
     "metadata": {},
     "output_type": "display_data"
    },
    {
     "name": "stdout",
     "output_type": "stream",
     "text": [
      "\n",
      "\n",
      "--------------------------------\n",
      "512 1022 \n",
      "\n"
     ]
    },
    {
     "data": {
      "image/png": "[encoded data removed]",
      "text/plain": [
       "<Figure size 500x200 with 2 Axes>"
      ]
     },
     "metadata": {},
     "output_type": "display_data"
    },
    {
     "name": "stdout",
     "output_type": "stream",
     "text": [
      "\n",
      "\n",
      "--------------------------------\n",
      "512 1020 4 \n",
      "\n"
     ]
    },
    {
     "data": {
      "image/png": "[encoded data removed]",
      "text/plain": [
       "<Figure size 500x200 with 2 Axes>"
      ]
     },
     "metadata": {},
     "output_type": "display_data"
    },
    {
     "name": "stdout",
     "output_type": "stream",
     "text": [
      "\n",
      "\n",
      "--------------------------------\n",
      "256 1020 4 \n",
      "\n"
     ]
    },
    {
     "data": {
      "image/png": "[encoded data removed]",
      "text/plain": [
       "<Figure size 500x200 with 2 Axes>"
      ]
     },
     "metadata": {},
     "output_type": "display_data"
    },
    {
     "name": "stdout",
     "output_type": "stream",
     "text": [
      "\n",
      "\n",
      "--------------------------------\n",
      "256 1020 8 \n",
      "\n"
     ]
    },
    {
     "data": {
      "image/png": "[encoded data removed]",
      "text/plain": [
       "<Figure size 500x200 with 2 Axes>"
      ]
     },
     "metadata": {},
     "output_type": "display_data"
    },
    {
     "name": "stdout",
     "output_type": "stream",
     "text": [
      "\n",
      "\n",
      "--------------------------------\n",
      "512 1016 528 \n",
      "\n"
     ]
    },
    {
     "data": {
      "image/png": "[encoded data removed]",
      "text/plain": [
       "<Figure size 500x200 with 2 Axes>"
      ]
     },
     "metadata": {},
     "output_type": "display_data"
    },
    {
     "name": "stdout",
     "output_type": "stream",
     "text": [
      "\n",
      "\n",
      "--------------------------------\n",
      "528 1008 528 \n",
      "\n"
     ]
    },
    {
     "data": {
      "image/png": "[encoded data removed]",
      "text/plain": [
       "<Figure size 500x200 with 2 Axes>"
      ]
     },
     "metadata": {},
     "output_type": "display_data"
    },
    {
     "name": "stdout",
     "output_type": "stream",
     "text": [
      "\n",
      "\n",
      "--------------------------------\n",
      "528 1016 512 \n",
      "\n"
     ]
    },
    {
     "data": {
      "image/png": "[encoded data removed]",
      "text/plain": [
       "<Figure size 500x200 with 2 Axes>"
      ]
     },
     "metadata": {},
     "output_type": "display_data"
    },
    {
     "name": "stdout",
     "output_type": "stream",
     "text": [
      "\n",
      "\n",
      "--------------------------------\n",
      "528 1008 528 \n",
      "\n"
     ]
    },
    {
     "data": {
      "image/png": "[encoded data removed]",
      "text/plain": [
       "<Figure size 500x200 with 2 Axes>"
      ]
     },
     "metadata": {},
     "output_type": "display_data"
    },
    {
     "name": "stdout",
     "output_type": "stream",
     "text": [
      "\n",
      "\n",
      "--------------------------------\n",
      "528 1008 272 \n",
      "\n"
     ]
    },
    {
     "data": {
      "image/png": "[encoded data removed]",
      "text/plain": [
       "<Figure size 500x200 with 2 Axes>"
      ]
     },
     "metadata": {},
     "output_type": "display_data"
    },
    {
     "name": "stdout",
     "output_type": "stream",
     "text": [
      "\n",
      "\n",
      "--------------------------------\n",
      "528 1008 288 \n",
      "\n"
     ]
    },
    {
     "data": {
      "image/png": "[encoded data removed]",
      "text/plain": [
       "<Figure size 500x200 with 2 Axes>"
      ]
     },
     "metadata": {},
     "output_type": "display_data"
    },
    {
     "name": "stdout",
     "output_type": "stream",
     "text": [
      "\n",
      "\n"
     ]
    }
   ],
   "source": [
    "import seaborn as sns\n",
    "import matplotlib.pyplot as plt\n",
    "\n",
    "# This visualizes the first N shapes in the dataset\n",
    "for idx, row in df.iterrows():\n",
    "    print(\"--------------------------------\")\n",
    "    print(row['shape'], '\\n')\n",
    "    # print(row['shape_matrix_str'])\n",
    "    fig, ax = plt.subplots(figsize=(5, 2))\n",
    "    sns.heatmap(row['shape_matrix'], annot=True, fmt=\"d\", cmap=\"binary\", ax=ax)\n",
    "    plt.show()\n",
    "    print(\"\\n\")\n",
    "    if idx > 10:\n",
    "        break\n"
   ]
  },
  {
   "cell_type": "markdown",
   "metadata": {},
   "source": [
    "## Load all data"
   ]
  },
  {
   "cell_type": "code",
   "execution_count": null,
   "metadata": {},
   "outputs": [
    {
     "name": "stdout",
     "output_type": "stream",
     "text": [
      "(32319, 6)\n"
     ]
    },
    {
     "data": {
      "text/html": [
       "<div>\n",
       "<style scoped>\n",
       "    .dataframe tbody tr th:only-of-type {\n",
       "        vertical-align: middle;\n",
       "    }\n",
       "\n",
       "    .dataframe tbody tr th {\n",
       "        vertical-align: top;\n",
       "    }\n",
       "\n",
       "    .dataframe thead th {\n",
       "        text-align: right;\n",
       "    }\n",
       "</style>\n",
       "<table border=\"1\" class=\"dataframe\">\n",
       "  <thead>\n",
       "    <tr style=\"text-align: right;\">\n",
       "      <th></th>\n",
       "      <th>shape</th>\n",
       "      <th>timestamp</th>\n",
       "      <th>timestamp_gallery</th>\n",
       "      <th>game_file</th>\n",
       "      <th>shape_matrix</th>\n",
       "      <th>shape_matrix_str</th>\n",
       "    </tr>\n",
       "  </thead>\n",
       "  <tbody>\n",
       "    <tr>\n",
       "      <th>0</th>\n",
       "      <td>1023</td>\n",
       "      <td>16.038</td>\n",
       "      <td></td>\n",
       "      <td>20120513_091629.txt</td>\n",
       "      <td>[[1, 1, 1, 1, 1, 1, 1, 1, 1, 1]]</td>\n",
       "      <td>1111111111</td>\n",
       "    </tr>\n",
       "    <tr>\n",
       "      <th>1</th>\n",
       "      <td>1023</td>\n",
       "      <td>17.168</td>\n",
       "      <td>29.650000000000002</td>\n",
       "      <td>20120513_091629.txt</td>\n",
       "      <td>[[1, 1, 1, 1, 1, 1, 1, 1, 1, 1]]</td>\n",
       "      <td>1111111111</td>\n",
       "    </tr>\n",
       "    <tr>\n",
       "      <th>2</th>\n",
       "      <td>2 1022</td>\n",
       "      <td>76.165</td>\n",
       "      <td></td>\n",
       "      <td>20120513_091629.txt</td>\n",
       "      <td>[[0, 0, 0, 0, 0, 0, 0, 0, 1, 0], [1, 1, 1, 1, ...</td>\n",
       "      <td>0000000010\\n1111111110</td>\n",
       "    </tr>\n",
       "    <tr>\n",
       "      <th>3</th>\n",
       "      <td>4 1020 512</td>\n",
       "      <td>79.600</td>\n",
       "      <td></td>\n",
       "      <td>20120513_091629.txt</td>\n",
       "      <td>[[0, 0, 0, 0, 0, 0, 0, 1, 0, 0], [1, 1, 1, 1, ...</td>\n",
       "      <td>0000000100\\n1111111100\\n1000000000</td>\n",
       "    </tr>\n",
       "    <tr>\n",
       "      <th>4</th>\n",
       "      <td>4 1020 256</td>\n",
       "      <td>81.315</td>\n",
       "      <td></td>\n",
       "      <td>20120513_091629.txt</td>\n",
       "      <td>[[0, 0, 0, 0, 0, 0, 0, 1, 0, 0], [1, 1, 1, 1, ...</td>\n",
       "      <td>0000000100\\n1111111100\\n0100000000</td>\n",
       "    </tr>\n",
       "  </tbody>\n",
       "</table>\n",
       "</div>"
      ],
      "text/plain": [
       "        shape  timestamp   timestamp_gallery            game_file  \\\n",
       "0        1023     16.038                      20120513_091629.txt   \n",
       "1        1023     17.168  29.650000000000002  20120513_091629.txt   \n",
       "2      2 1022     76.165                      20120513_091629.txt   \n",
       "3  4 1020 512     79.600                      20120513_091629.txt   \n",
       "4  4 1020 256     81.315                      20120513_091629.txt   \n",
       "\n",
       "                                        shape_matrix  \\\n",
       "0                   [[1, 1, 1, 1, 1, 1, 1, 1, 1, 1]]   \n",
       "1                   [[1, 1, 1, 1, 1, 1, 1, 1, 1, 1]]   \n",
       "2  [[0, 0, 0, 0, 0, 0, 0, 0, 1, 0], [1, 1, 1, 1, ...   \n",
       "3  [[0, 0, 0, 0, 0, 0, 0, 1, 0, 0], [1, 1, 1, 1, ...   \n",
       "4  [[0, 0, 0, 0, 0, 0, 0, 1, 0, 0], [1, 1, 1, 1, ...   \n",
       "\n",
       "                     shape_matrix_str  \n",
       "0                          1111111111  \n",
       "1                          1111111111  \n",
       "2              0000000010\\n1111111110  \n",
       "3  0000000100\\n1111111100\\n1000000000  \n",
       "4  0000000100\\n1111111100\\n0100000000  "
      ]
     },
     "metadata": {},
     "output_type": "display_data"
    }
   ],
   "source": [
    "# Iterate through all the participants in the dataset\n",
    "import os\n",
    "\n",
    "df_list = []\n",
    "for participant_file in os.listdir(\"creative-foraging-human-data/Games\"):\n",
    "    # print(participant_file)\n",
    "    with open(\"creative-foraging-human-data/Games/\"+participant_file, 'r') as f:\n",
    "        df = pd.read_csv(f, sep=\"\\t\", header=None)\n",
    "        df.columns = [\"shape\", \"timestamp\", \"timestamp_gallery\"]\n",
    "        df['game_file'] = participant_file\n",
    "        df['shape_matrix'] = df['shape'].apply(decode_shape_binaries_str)\n",
    "        df['shape_matrix_str'] = df['shape'].apply(lambda x: \"\\n\".join([\"\".join(map(str, row)) for row in decode_shape_binaries_str(x)]))\n",
    "        df_list.append(df)\n",
    "\n",
    "df = pd.concat(df_list)\n",
    "print(df.shape)\n",
    "display(df.head())\n",
    "\n",
    "# Save the processed data\n",
    "df.to_csv(\"data/all-games.tsv\", index=False, sep=\"\\t\", quoting=2)\n"
   ]
  },
  {
   "cell_type": "code",
   "execution_count": 6,
   "metadata": {},
   "outputs": [
    {
     "data": {
      "text/html": [
       "<div>\n",
       "<style scoped>\n",
       "    .dataframe tbody tr th:only-of-type {\n",
       "        vertical-align: middle;\n",
       "    }\n",
       "\n",
       "    .dataframe tbody tr th {\n",
       "        vertical-align: top;\n",
       "    }\n",
       "\n",
       "    .dataframe thead th {\n",
       "        text-align: right;\n",
       "    }\n",
       "</style>\n",
       "<table border=\"1\" class=\"dataframe\">\n",
       "  <thead>\n",
       "    <tr style=\"text-align: right;\">\n",
       "      <th></th>\n",
       "      <th>shape</th>\n",
       "      <th>timestamp</th>\n",
       "      <th>timestamp_gallery</th>\n",
       "      <th>next_shape</th>\n",
       "      <th>game_file</th>\n",
       "      <th>shape_matrix</th>\n",
       "      <th>shape_matrix_str</th>\n",
       "    </tr>\n",
       "  </thead>\n",
       "  <tbody>\n",
       "    <tr>\n",
       "      <th>0</th>\n",
       "      <td>1023</td>\n",
       "      <td>16.038</td>\n",
       "      <td></td>\n",
       "      <td>1023</td>\n",
       "      <td>20120513_091629.txt</td>\n",
       "      <td>[[1, 1, 1, 1, 1, 1, 1, 1, 1, 1]]</td>\n",
       "      <td>1111111111</td>\n",
       "    </tr>\n",
       "    <tr>\n",
       "      <th>1</th>\n",
       "      <td>1023</td>\n",
       "      <td>17.168</td>\n",
       "      <td>29.650000000000002</td>\n",
       "      <td>2 1022</td>\n",
       "      <td>20120513_091629.txt</td>\n",
       "      <td>[[1, 1, 1, 1, 1, 1, 1, 1, 1, 1]]</td>\n",
       "      <td>1111111111</td>\n",
       "    </tr>\n",
       "    <tr>\n",
       "      <th>2</th>\n",
       "      <td>2 1022</td>\n",
       "      <td>76.165</td>\n",
       "      <td></td>\n",
       "      <td>4 1020 512</td>\n",
       "      <td>20120513_091629.txt</td>\n",
       "      <td>[[0, 0, 0, 0, 0, 0, 0, 0, 1, 0], [1, 1, 1, 1, ...</td>\n",
       "      <td>0000000010\\n1111111110</td>\n",
       "    </tr>\n",
       "    <tr>\n",
       "      <th>3</th>\n",
       "      <td>4 1020 512</td>\n",
       "      <td>79.600</td>\n",
       "      <td></td>\n",
       "      <td>4 1020 256</td>\n",
       "      <td>20120513_091629.txt</td>\n",
       "      <td>[[0, 0, 0, 0, 0, 0, 0, 1, 0, 0], [1, 1, 1, 1, ...</td>\n",
       "      <td>0000000100\\n1111111100\\n1000000000</td>\n",
       "    </tr>\n",
       "    <tr>\n",
       "      <th>4</th>\n",
       "      <td>4 1020 256</td>\n",
       "      <td>81.315</td>\n",
       "      <td></td>\n",
       "      <td>520 1016 512</td>\n",
       "      <td>20120513_091629.txt</td>\n",
       "      <td>[[0, 0, 0, 0, 0, 0, 0, 1, 0, 0], [1, 1, 1, 1, ...</td>\n",
       "      <td>0000000100\\n1111111100\\n0100000000</td>\n",
       "    </tr>\n",
       "    <tr>\n",
       "      <th>...</th>\n",
       "      <td>...</td>\n",
       "      <td>...</td>\n",
       "      <td>...</td>\n",
       "      <td>...</td>\n",
       "      <td>...</td>\n",
       "      <td>...</td>\n",
       "      <td>...</td>\n",
       "    </tr>\n",
       "    <tr>\n",
       "      <th>32314</th>\n",
       "      <td>896 320 448 256 256</td>\n",
       "      <td>953.421</td>\n",
       "      <td></td>\n",
       "      <td>960 128 224 128 128</td>\n",
       "      <td>20120611_131956.txt</td>\n",
       "      <td>[[1, 1, 1, 0, 0, 0, 0, 0, 0, 0], [0, 1, 0, 1, ...</td>\n",
       "      <td>1110000000\\n0101000000\\n0111000000\\n0100000000...</td>\n",
       "    </tr>\n",
       "    <tr>\n",
       "      <th>32315</th>\n",
       "      <td>960 128 224 128 128</td>\n",
       "      <td>954.556</td>\n",
       "      <td></td>\n",
       "      <td>960 640 192 128 128</td>\n",
       "      <td>20120611_131956.txt</td>\n",
       "      <td>[[1, 1, 1, 1, 0, 0, 0, 0, 0, 0], [0, 0, 1, 0, ...</td>\n",
       "      <td>1111000000\\n0010000000\\n0011100000\\n0010000000...</td>\n",
       "    </tr>\n",
       "    <tr>\n",
       "      <th>32316</th>\n",
       "      <td>960 640 192 128 128</td>\n",
       "      <td>955.716</td>\n",
       "      <td></td>\n",
       "      <td>960 640 640 128 128</td>\n",
       "      <td>20120611_131956.txt</td>\n",
       "      <td>[[1, 1, 1, 1, 0, 0, 0, 0, 0, 0], [1, 0, 1, 0, ...</td>\n",
       "      <td>1111000000\\n1010000000\\n0011000000\\n0010000000...</td>\n",
       "    </tr>\n",
       "    <tr>\n",
       "      <th>32317</th>\n",
       "      <td>960 640 640 128 128</td>\n",
       "      <td>956.739</td>\n",
       "      <td></td>\n",
       "      <td>896 640 896 128 128</td>\n",
       "      <td>20120611_131956.txt</td>\n",
       "      <td>[[1, 1, 1, 1, 0, 0, 0, 0, 0, 0], [1, 0, 1, 0, ...</td>\n",
       "      <td>1111000000\\n1010000000\\n1010000000\\n0010000000...</td>\n",
       "    </tr>\n",
       "    <tr>\n",
       "      <th>32318</th>\n",
       "      <td>896 640 896 128 128</td>\n",
       "      <td>957.848</td>\n",
       "      <td></td>\n",
       "      <td>NaN</td>\n",
       "      <td>20120611_131956.txt</td>\n",
       "      <td>[[1, 1, 1, 0, 0, 0, 0, 0, 0, 0], [1, 0, 1, 0, ...</td>\n",
       "      <td>1110000000\\n1010000000\\n1110000000\\n0010000000...</td>\n",
       "    </tr>\n",
       "  </tbody>\n",
       "</table>\n",
       "<p>32319 rows × 7 columns</p>\n",
       "</div>"
      ],
      "text/plain": [
       "                     shape  timestamp   timestamp_gallery  \\\n",
       "0                     1023     16.038                       \n",
       "1                     1023     17.168  29.650000000000002   \n",
       "2                   2 1022     76.165                       \n",
       "3               4 1020 512     79.600                       \n",
       "4               4 1020 256     81.315                       \n",
       "...                    ...        ...                 ...   \n",
       "32314  896 320 448 256 256    953.421                       \n",
       "32315  960 128 224 128 128    954.556                       \n",
       "32316  960 640 192 128 128    955.716                       \n",
       "32317  960 640 640 128 128    956.739                       \n",
       "32318  896 640 896 128 128    957.848                       \n",
       "\n",
       "                next_shape            game_file  \\\n",
       "0                     1023  20120513_091629.txt   \n",
       "1                   2 1022  20120513_091629.txt   \n",
       "2               4 1020 512  20120513_091629.txt   \n",
       "3               4 1020 256  20120513_091629.txt   \n",
       "4             520 1016 512  20120513_091629.txt   \n",
       "...                    ...                  ...   \n",
       "32314  960 128 224 128 128  20120611_131956.txt   \n",
       "32315  960 640 192 128 128  20120611_131956.txt   \n",
       "32316  960 640 640 128 128  20120611_131956.txt   \n",
       "32317  896 640 896 128 128  20120611_131956.txt   \n",
       "32318                  NaN  20120611_131956.txt   \n",
       "\n",
       "                                            shape_matrix  \\\n",
       "0                       [[1, 1, 1, 1, 1, 1, 1, 1, 1, 1]]   \n",
       "1                       [[1, 1, 1, 1, 1, 1, 1, 1, 1, 1]]   \n",
       "2      [[0, 0, 0, 0, 0, 0, 0, 0, 1, 0], [1, 1, 1, 1, ...   \n",
       "3      [[0, 0, 0, 0, 0, 0, 0, 1, 0, 0], [1, 1, 1, 1, ...   \n",
       "4      [[0, 0, 0, 0, 0, 0, 0, 1, 0, 0], [1, 1, 1, 1, ...   \n",
       "...                                                  ...   \n",
       "32314  [[1, 1, 1, 0, 0, 0, 0, 0, 0, 0], [0, 1, 0, 1, ...   \n",
       "32315  [[1, 1, 1, 1, 0, 0, 0, 0, 0, 0], [0, 0, 1, 0, ...   \n",
       "32316  [[1, 1, 1, 1, 0, 0, 0, 0, 0, 0], [1, 0, 1, 0, ...   \n",
       "32317  [[1, 1, 1, 1, 0, 0, 0, 0, 0, 0], [1, 0, 1, 0, ...   \n",
       "32318  [[1, 1, 1, 0, 0, 0, 0, 0, 0, 0], [1, 0, 1, 0, ...   \n",
       "\n",
       "                                        shape_matrix_str  \n",
       "0                                             1111111111  \n",
       "1                                             1111111111  \n",
       "2                                 0000000010\\n1111111110  \n",
       "3                     0000000100\\n1111111100\\n1000000000  \n",
       "4                     0000000100\\n1111111100\\n0100000000  \n",
       "...                                                  ...  \n",
       "32314  1110000000\\n0101000000\\n0111000000\\n0100000000...  \n",
       "32315  1111000000\\n0010000000\\n0011100000\\n0010000000...  \n",
       "32316  1111000000\\n1010000000\\n0011000000\\n0010000000...  \n",
       "32317  1111000000\\n1010000000\\n1010000000\\n0010000000...  \n",
       "32318  1110000000\\n1010000000\\n1110000000\\n0010000000...  \n",
       "\n",
       "[32319 rows x 7 columns]"
      ]
     },
     "execution_count": 6,
     "metadata": {},
     "output_type": "execute_result"
    }
   ],
   "source": [
    "df = pd.read_csv(\"data/all-games.tsv\", sep=\"\\t\")\n",
    "df"
   ]
  },
  {
   "cell_type": "code",
   "execution_count": 8,
   "metadata": {},
   "outputs": [
    {
     "name": "stdout",
     "output_type": "stream",
     "text": [
      "Axes(0.125,0.11;0.775x0.77)\n",
      "Axes(0.125,0.11;0.775x0.77)\n",
      "36\n",
      "706\n"
     ]
    },
    {
     "data": {
      "image/png": "[encoded data removed]",
      "text/plain": [
       "<Figure size 640x480 with 1 Axes>"
      ]
     },
     "metadata": {},
     "output_type": "display_data"
    }
   ],
   "source": [
    "all_moves = df.groupby(\"game_file\").size().sort_values(ascending=False).hist()\n",
    "print(all_moves)\n",
    "\n",
    "saved_shapes = df.query(\"timestamp_gallery != ' '\")\n",
    "saves_per_game = saved_shapes.groupby(\"game_file\").size().sort_values(ascending=False).hist()\n",
    "print(saves_per_game)\n",
    "\n",
    "# Provide the minimum and maximum file sizes\n",
    "print(df.groupby(\"game_file\").size().min())\n",
    "print(df.groupby(\"game_file\").size().max())"
   ]
  },
  {
   "cell_type": "code",
   "execution_count": null,
   "metadata": {},
   "outputs": [],
   "source": []
  },
  {
   "cell_type": "code",
   "execution_count": 7,
   "metadata": {},
   "outputs": [
    {
     "name": "stdout",
     "output_type": "stream",
     "text": [
      "Phases for A: ['exploration', 'exploration', 'exploitation', 'exploitation', 'exploitation', 'exploration', 'exploitation', 'exploitation', 'exploitation']\n",
      "Phases for B: ['exploration', 'exploration', 'exploitation', 'exploitation', 'exploitation', 'exploitation', 'exploitation', 'exploitation']\n"
     ]
    }
   ],
   "source": [
    "\n",
    "\n",
    "# Create a thresholding algorithm that tags exploitaion and exploration phases\n",
    "# exploitation is when players' time intervals between consecutive choices to the gallery are decreasing\n",
    "# exploration phases is when players' time intervals between consecutive choices to the gallery are increasing\n",
    "\n",
    "def identify_exploitation_phases(time_intervals):\n",
    "    exploitation_phases = []\n",
    "    current_phase = []\n",
    "\n",
    "    for i in range(1, len(time_intervals)):\n",
    "        if time_intervals[i] < time_intervals[i - 1]:\n",
    "            if not current_phase:\n",
    "                current_phase.append(time_intervals[i - 1])\n",
    "            current_phase.append(time_intervals[i])\n",
    "        else:\n",
    "            if current_phase:\n",
    "                exploitation_phases.append(current_phase)\n",
    "                current_phase = []\n",
    "\n",
    "    if current_phase:\n",
    "        exploitation_phases.append(current_phase)\n",
    "\n",
    "    return exploitation_phases\n",
    "\n",
    "def merge_exploitation_phases(exploitation_phases):\n",
    "    merged_phases = []\n",
    "    i = 0\n",
    "\n",
    "    while i < len(exploitation_phases):\n",
    "        current_phase = exploitation_phases[i]\n",
    "        while i + 1 < len(exploitation_phases) and max(current_phase) > max(exploitation_phases[i + 1]):\n",
    "            current_phase.extend(exploitation_phases[i + 1])\n",
    "            i += 1\n",
    "        merged_phases.append(current_phase)\n",
    "        i += 1\n",
    "\n",
    "    return merged_phases\n",
    "\n",
    "def tag_phases(time_intervals):\n",
    "    exploitation_phases = identify_exploitation_phases(time_intervals)\n",
    "    merged_phases = merge_exploitation_phases(exploitation_phases)\n",
    "\n",
    "    phase_labels = ['exploration'] * len(time_intervals)\n",
    "    for phase in merged_phases:\n",
    "        start_idx = time_intervals.index(phase[0])\n",
    "        end_idx = start_idx + len(phase)\n",
    "        for i in range(start_idx, end_idx):\n",
    "            phase_labels[i] = 'exploitation'\n",
    "\n",
    "    return phase_labels\n",
    "\n",
    "# Example usage\n",
    "time_intervals_A = [10, 20, 70, 30, 20, 40, 90, 40, 10]\n",
    "time_intervals_B = [10, 20, 70, 30, 20, 50, 40, 10]\n",
    "\n",
    "phases_A = tag_phases(time_intervals_A)\n",
    "phases_B = tag_phases(time_intervals_B)\n",
    "\n",
    "print(\"Phases for A:\", phases_A)\n",
    "print(\"Phases for B:\", phases_B)"
   ]
  }
 ],
 "metadata": {
  "kernelspec": {
   "display_name": "benchmarking-creativity-nbm55LEq-py3.12",
   "language": "python",
   "name": "python3"
  },
  "language_info": {
   "codemirror_mode": {
    "name": "ipython",
    "version": 3
   },
   "file_extension": ".py",
   "mimetype": "text/x-python",
   "name": "python",
   "nbconvert_exporter": "python",
   "pygments_lexer": "ipython3",
   "version": "3.12.4"
  }
 },
 "nbformat": 4,
 "nbformat_minor": 2
}
