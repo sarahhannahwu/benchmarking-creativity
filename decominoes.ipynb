{
 "cells": [
  {
   "cell_type": "code",
   "execution_count": 93,
   "metadata": {},
   "outputs": [
    {
     "name": "stdout",
     "output_type": "stream",
     "text": [
      "[1, 1, 2, 6, 19, 63, 216, 760, 2725, 9910, 36446]\n"
     ]
    }
   ],
   "source": [
    "import copy\n",
    "from functions.tools import decode_shape_binaries_str, encode_shape_binaries\n",
    "\n",
    "def neighbors(polyomino):\n",
    "    \"\"\"\n",
    "    ARGS: polyomino: a list of tuples representing the squares of a polyomino\n",
    "    RETURN: a list of tuples representing the squares that are valid neighbors of the polyomino\n",
    "    \"\"\"\n",
    "    found = []\n",
    "    for (x,y) in polyomino:\n",
    "        for delta_x, delta_y in [(1,0), (-1,0), (0,1), (0,-1)]:\n",
    "            if y + delta_y < 0 or (y + delta_y == 0 and x + delta_x < 0):\n",
    "                continue\n",
    "            new_square = (x + delta_x, y + delta_y)\n",
    "            if new_square not in found:\n",
    "                found.append(new_square)\n",
    "    return found\n",
    "\n",
    "def redelmeier(n):\n",
    "    \"\"\"\n",
    "    ARGS: n: the size of the polyominoes to count\n",
    "    Caller function to redelmeier_recursion. Initializes the counts list and calls the recursive function.\n",
    "    \"\"\"\n",
    "    counts = [0] * (n+1)\n",
    "    counts[0] = 1\n",
    "    polyomino = []\n",
    "    untried_set = [(0,0)]\n",
    "    redelmeier_recursion(n, counts, polyomino, untried_set)\n",
    "    return counts\n",
    "\n",
    "def redelmeier_recursion(n, counts, polyomino, untried_set):\n",
    "    while len(untried_set) > 0:\n",
    "        new_square = untried_set.pop()\n",
    "        new_untried_set = copy.copy(untried_set)\n",
    "        new_square_neighbors = neighbors([new_square])\n",
    "        polyomino_neighbors = neighbors(polyomino)\n",
    "        for s in new_square_neighbors:\n",
    "            if s not in polyomino_neighbors and s not in polyomino:\n",
    "                new_untried_set.append(s)\n",
    "        new_polyomino = copy.copy(polyomino)\n",
    "        new_polyomino.append(new_square)\n",
    "        counts[len(new_polyomino)] += 1\n",
    "        if len(new_polyomino) < n:\n",
    "            redelmeier_recursion(n, counts, new_polyomino, new_untried_set)\n",
    "\n",
    "print(redelmeier(10))\n",
    "\n",
    "\n",
    " "
   ]
  },
  {
   "cell_type": "markdown",
   "metadata": {},
   "source": [
    "# Modified Redelmeier Implementation"
   ]
  },
  {
   "cell_type": "code",
   "execution_count": 94,
   "metadata": {},
   "outputs": [
    {
     "name": "stdout",
     "output_type": "stream",
     "text": [
      "36446\n"
     ]
    }
   ],
   "source": [
    "import copy\n",
    "def neighbors(polyomino):\n",
    "    \"\"\"\n",
    "    ARGS: polyomino: a list of tuples representing the squares of a polyomino\n",
    "    RETURN: a list of tuples representing the squares that are valid neighbors of the polyomino\n",
    "    \"\"\"\n",
    "    found = []\n",
    "    for (x,y) in polyomino:\n",
    "        for delta_x, delta_y in [(1,0), (-1,0), (0,1), (0,-1)]:\n",
    "            if y + delta_y < 0 or (y + delta_y == 0 and x + delta_x < 0):\n",
    "                continue\n",
    "            new_square = (x + delta_x, y + delta_y)\n",
    "            if new_square not in found:\n",
    "                found.append(new_square)\n",
    "    return found\n",
    "\n",
    "def redelmeier(n):\n",
    "    \"\"\"\n",
    "    ARGS: n: the size of the polyominoes to count\n",
    "    Caller function to redelmeier_recursion. Initializes the counts list and calls the recursive function.\n",
    "    \"\"\"\n",
    "    polyomino = []\n",
    "    n_ominoes = []\n",
    "    untried_set = [(0,0)]\n",
    "    redelmeier_recursion(n, n_ominoes, polyomino, untried_set)\n",
    "    return n_ominoes\n",
    "\n",
    "def redelmeier_recursion(n, n_ominoes, polyomino, untried_set):\n",
    "    while len(untried_set) > 0:\n",
    "        new_square = untried_set.pop()\n",
    "        new_untried_set = copy.copy(untried_set)\n",
    "        new_square_neighbors = neighbors([new_square])\n",
    "        polyomino_neighbors = neighbors(polyomino)\n",
    "        for s in new_square_neighbors:\n",
    "            if s not in polyomino_neighbors and s not in polyomino:\n",
    "                new_untried_set.append(s)\n",
    "        new_polyomino = copy.copy(polyomino)\n",
    "        new_polyomino.append(new_square)\n",
    "        if len(new_polyomino) < n:\n",
    "            redelmeier_recursion(n, n_ominoes, new_polyomino, new_untried_set)\n",
    "        else:\n",
    "            n_ominoes.append(new_polyomino)\n",
    "\n",
    "\n",
    "decominoes = redelmeier(10)\n",
    "print(len(decominoes))\n"
   ]
  },
  {
   "cell_type": "code",
   "execution_count": 95,
   "metadata": {},
   "outputs": [],
   "source": [
    "\n",
    "# Converts tuple representation of polyomino to grid representation\n",
    "def tuple_polyomino_to_grid(tuple_polyomino):\n",
    "    min_x = min([x for (x,y) in tuple_polyomino])\n",
    "    min_y = min([y for (x,y) in tuple_polyomino])\n",
    "    tuple_polyomino = [(x - min_x, y - min_y) for (x,y) in tuple_polyomino]\n",
    "    grid = [['0' for i in range(10)] for j in range(10)]\n",
    "    for (x,y) in tuple_polyomino:\n",
    "        grid[y][x] = '1'\n",
    "    return grid\n",
    "\n",
    "\n",
    "# Converts grid representation to string representation\n",
    "def grid_to_string(grid):\n",
    "    string = \"\"\n",
    "    for row in grid:\n",
    "        string += \" \".join(row).replace('1','\\u25a0').replace('0','_') + \"\\n\"\n",
    "    return string\n",
    "\n",
    "\n",
    "\n",
    "\n",
    "\n",
    "\n",
    "\n",
    " "
   ]
  },
  {
   "cell_type": "code",
   "execution_count": 96,
   "metadata": {},
   "outputs": [
    {
     "name": "stdout",
     "output_type": "stream",
     "text": [
      "_ ■ _ _ _ _ _ _ _ _\n",
      "_ ■ _ _ _ _ _ _ _ _\n",
      "_ ■ _ _ _ _ _ _ _ _\n",
      "_ ■ _ _ _ _ _ _ _ _\n",
      "_ ■ _ _ _ _ _ _ _ _\n",
      "_ ■ _ _ _ _ _ _ _ _\n",
      "_ ■ _ _ _ _ _ _ _ _\n",
      "■ ■ ■ _ _ _ _ _ _ _\n",
      "_ _ _ _ _ _ _ _ _ _\n",
      "_ _ _ _ _ _ _ _ _ _\n",
      "\n",
      "[(0, 0), (0, 1), (0, 2), (0, 3), (0, 4), (0, 5), (0, 6), (0, 7), (-1, 7), (1, 7)]\n"
     ]
    }
   ],
   "source": [
    "# print(tuple_polyomino_to_grid(decominoes[0]))\n",
    "index = 20\n",
    "print(grid_to_string(tuple_polyomino_to_grid(decominoes[index])))\n",
    "print(decominoes[index])\n"
   ]
  },
  {
   "cell_type": "markdown",
   "metadata": {},
   "source": [
    "# Enumerate free decominoes!"
   ]
  },
  {
   "cell_type": "code",
   "execution_count": 97,
   "metadata": {},
   "outputs": [],
   "source": [
    "# For each decomino in decominoes, transform it into a set of its rotations and reflections\n",
    "# If not in unique_decominoes, add it to unique_decominoes\n",
    "\n",
    "\n",
    "\n",
    "def get_rotations(decomino):\n",
    "    rotate = lambda decomino: [(y,-x) for (x,y) in decomino]\n",
    "    rotations = []\n",
    "    for _ in range(4):      \n",
    "        decomino = rotate(decomino)\n",
    "        rotations.append(decomino)\n",
    "    return rotations\n",
    "\n",
    "\n",
    "def get_reflections(decomino):\n",
    "    return [[(-x,y) for (x,y) in decomino], [(x,-y) for (x,y) in decomino]]\n",
    "\n",
    "# Takes in the fixed decominoes and returns the smaller set of free decominoes\n",
    "def get_unique_decominoes(decominoes):\n",
    "    unique_decominoes = set()\n",
    "    for decomino in decominoes:\n",
    "        transformations = [] # A list of tuple representations of the decomino's rotations and reflections\n",
    "        for rotation in get_rotations(decomino):\n",
    "            transformations.append(rotation)\n",
    "            for reflection in get_reflections(rotation):\n",
    "                transformations.append(reflection)\n",
    "        transformations_grids = map(tuple_polyomino_to_grid, transformations)\n",
    "        transformation_encodings_set = set(map(encode_shape_binaries, transformations_grids))\n",
    "        if not transformation_encodings_set.intersection(unique_decominoes): # Transform every possible way and check if any of them are already in the set\n",
    "            unique_decominoes.add(encode_shape_binaries(tuple_polyomino_to_grid(decomino)))\n",
    "    return unique_decominoes\n",
    "   \n",
    "    \n",
    "free_decominoes = get_unique_decominoes(decominoes)\n",
    "\n"
   ]
  },
  {
   "cell_type": "code",
   "execution_count": 98,
   "metadata": {},
   "outputs": [
    {
     "name": "stdout",
     "output_type": "stream",
     "text": [
      "320 960 256 256 768 0 0 0 0 0\n"
     ]
    }
   ],
   "source": [
    "\n",
    "print(list(free_decominoes)[2])\n",
    "        "
   ]
  }
 ],
 "metadata": {
  "kernelspec": {
   "display_name": "benchmarking-creativity-nbm55LEq-py3.12",
   "language": "python",
   "name": "python3"
  },
  "language_info": {
   "codemirror_mode": {
    "name": "ipython",
    "version": 3
   },
   "file_extension": ".py",
   "mimetype": "text/x-python",
   "name": "python",
   "nbconvert_exporter": "python",
   "pygments_lexer": "ipython3",
   "version": "3.12.4"
  }
 },
 "nbformat": 4,
 "nbformat_minor": 2
}
