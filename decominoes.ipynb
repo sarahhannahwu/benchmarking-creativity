{
 "cells": [
  {
   "cell_type": "code",
   "execution_count": null,
   "metadata": {},
   "outputs": [
    {
     "name": "stdout",
     "output_type": "stream",
     "text": [
      "[1, 1, 2, 6, 19, 63, 216, 760, 2725, 9910, 36446]\n",
      "[0, 1, 4, 14, 47, 157, 530, 1820, 6365, 22640, 81726]\n"
     ]
    }
   ],
   "source": [
    "import copy\n",
    "def neighbors(polyomino):\n",
    "    \"\"\"\n",
    "    ARGS: polyomino: a list of tuples representing the squares of a polyomino\n",
    "    RETURN: a list of tuples representing the squares that are valid neighbors of the polyomino\n",
    "    \"\"\"\n",
    "    found = []\n",
    "    for (x,y) in polyomino:\n",
    "        for delta_x, delta_y in [(1,0), (-1,0), (0,1), (0,-1)]:\n",
    "            if y + delta_y < 0 or (y + delta_y == 0 and x + delta_x < 0):\n",
    "                continue\n",
    "            new_square = (x + delta_x, y + delta_y)\n",
    "            if new_square not in found:\n",
    "                found.append(new_square)\n",
    "    return found\n",
    "\n",
    "def redelmeier(n):\n",
    "    \"\"\"\n",
    "    ARGS: n: the size of the polyominoes to count\n",
    "    Caller function to redelmeier_recursion. Initializes the counts list and calls the recursive function.\n",
    "    \"\"\"\n",
    "    counts = [0] * (n+1)\n",
    "    counts[0] = 1\n",
    "    polyomino = []\n",
    "    untried_set = [(0,0)]\n",
    "    redelmeier_recursion(n, counts, polyomino, untried_set)\n",
    "    return counts\n",
    "\n",
    "def redelmeier_recursion(n, counts, polyomino, untried_set):\n",
    "    while len(untried_set) > 0:\n",
    "        new_square = untried_set.pop()\n",
    "        new_untried_set = copy.copy(untried_set)\n",
    "        new_square_neighbors = neighbors([new_square])\n",
    "        polyomino_neighbors = neighbors(polyomino)\n",
    "        for s in new_square_neighbors:\n",
    "            if s not in polyomino_neighbors and s not in polyomino:\n",
    "                new_untried_set.append(s)\n",
    "        new_polyomino = copy.copy(polyomino)\n",
    "        new_polyomino.append(new_square)\n",
    "        counts[len(new_polyomino)] += 1\n",
    "        if len(new_polyomino) < n:\n",
    "            redelmeier_recursion(n, counts, new_polyomino, new_untried_set)\n",
    "\n",
    "print(redelmeier(10))\n",
    "\n",
    "\n",
    " "
   ]
  },
  {
   "cell_type": "code",
   "execution_count": null,
   "metadata": {},
   "outputs": [],
   "source": [
    "# Check for duplicates in the form of rotations and reflections to get the number of free polyominoes\n",
    "# Define a function to determine the reflections and rotations of a polyomino\n",
    "def rotations(polyomino):\n",
    "    rotations = []\n",
    "    for i in range(4):\n",
    "        rotations.append(polyomino)\n",
    "        polyomino = [(y, -x) for (x,y) in polyomino]\n",
    "    return rotations\n",
    "\n",
    "def reflections(polyomino):\n",
    "    reflections = []\n",
    "    reflections.append(polyomino)\n",
    "    reflections.append([(x,-y) for (x,y) in polyomino])\n",
    "    return reflections\n",
    "\n",
    "# Subtract the number of duplicates from the number of polyominoes\n",
    "def free\n"
   ]
  },
  {
   "cell_type": "markdown",
   "metadata": {},
   "source": [
    "# Modified Redelmeier Implementation"
   ]
  },
  {
   "cell_type": "code",
   "execution_count": 81,
   "metadata": {},
   "outputs": [],
   "source": [
    "import copy\n",
    "def neighbors(polyomino):\n",
    "    \"\"\"\n",
    "    ARGS: polyomino: a list of tuples representing the squares of a polyomino\n",
    "    RETURN: a list of tuples representing the squares that are valid neighbors of the polyomino\n",
    "    \"\"\"\n",
    "    found = []\n",
    "    for (x,y) in polyomino:\n",
    "        for delta_x, delta_y in [(1,0), (-1,0), (0,1), (0,-1)]:\n",
    "            if y + delta_y < 0 or (y + delta_y == 0 and x + delta_x < 0):\n",
    "                continue\n",
    "            new_square = (x + delta_x, y + delta_y)\n",
    "            if new_square not in found:\n",
    "                found.append(new_square)\n",
    "    return found\n",
    "\n",
    "def redelmeier(n):\n",
    "    \"\"\"\n",
    "    ARGS: n: the size of the polyominoes to count\n",
    "    Caller function to redelmeier_recursion. Initializes the counts list and calls the recursive function.\n",
    "    \"\"\"\n",
    "    polyomino = []\n",
    "    n_ominoes = []\n",
    "    untried_set = [(0,0)]\n",
    "    redelmeier_recursion(n, n_ominoes, polyomino, untried_set)\n",
    "    return n_ominoes\n",
    "\n",
    "def redelmeier_recursion(n, n_ominoes, polyomino, untried_set):\n",
    "    while len(untried_set) > 0:\n",
    "        new_square = untried_set.pop()\n",
    "        new_untried_set = copy.copy(untried_set)\n",
    "        new_square_neighbors = neighbors([new_square])\n",
    "        polyomino_neighbors = neighbors(polyomino)\n",
    "        for s in new_square_neighbors:\n",
    "            if s not in polyomino_neighbors and s not in polyomino:\n",
    "                new_untried_set.append(s)\n",
    "        new_polyomino = copy.copy(polyomino)\n",
    "        new_polyomino.append(new_square)\n",
    "        if len(new_polyomino) < n:\n",
    "            redelmeier_recursion(n, n_ominoes, new_polyomino, new_untried_set)\n",
    "        else:\n",
    "            n_ominoes.append(new_polyomino)\n",
    "\n",
    "\n",
    "decominoes = redelmeier(10)\n"
   ]
  },
  {
   "cell_type": "code",
   "execution_count": 110,
   "metadata": {},
   "outputs": [],
   "source": [
    "\n",
    "\n",
    "def tuple_polyomino_to_grid(tuple_polyomino):\n",
    "    min_x = min([x for (x,y) in tuple_polyomino])\n",
    "    min_y = min([y for (x,y) in tuple_polyomino])\n",
    "    tuple_polyomino = [(x - min_x, y - min_y) for (x,y) in tuple_polyomino]\n",
    "    grid = [['0' for i in range(10)] for j in range(10)]\n",
    "    for (x,y) in tuple_polyomino:\n",
    "        grid[y][x] = '1'\n",
    "    return grid\n",
    "\n",
    "def grid_to_string(grid):\n",
    "    string = \"\"\n",
    "    for row in grid:\n",
    "        string += \" \".join(row).replace('1','\\u25a0').replace('0','_') + \"\\n\"\n",
    "    return string\n",
    "\n",
    "\n",
    "\n",
    "\n",
    "\n",
    "\n",
    "\n",
    " "
   ]
  },
  {
   "cell_type": "code",
   "execution_count": 116,
   "metadata": {},
   "outputs": [
    {
     "name": "stdout",
     "output_type": "stream",
     "text": [
      "_ _ _ _ ■ _ _ _ _ _\n",
      "_ _ ■ ■ ■ _ _ _ _ _\n",
      "_ _ ■ _ _ _ _ _ _ _\n",
      "■ ■ ■ _ _ _ _ _ _ _\n",
      "_ _ ■ ■ _ _ _ _ _ _\n",
      "_ _ _ _ _ _ _ _ _ _\n",
      "_ _ _ _ _ _ _ _ _ _\n",
      "_ _ _ _ _ _ _ _ _ _\n",
      "_ _ _ _ _ _ _ _ _ _\n",
      "_ _ _ _ _ _ _ _ _ _\n",
      "\n",
      "[(0, 0), (0, 1), (-1, 1), (-2, 1), (-2, 2), (-2, 3), (-2, 4), (-1, 4), (-3, 3), (-4, 3)]\n"
     ]
    }
   ],
   "source": [
    "# print(tuple_polyomino_to_grid(decominoes[0]))\n",
    "index = 23098\n",
    "print(grid_to_string(tuple_polyomino_to_grid(decominoes[index])))\n",
    "print(decominoes[index])\n"
   ]
  }
 ],
 "metadata": {
  "kernelspec": {
   "display_name": "benchmarking-creativity-nbm55LEq-py3.12",
   "language": "python",
   "name": "python3"
  },
  "language_info": {
   "codemirror_mode": {
    "name": "ipython",
    "version": 3
   },
   "file_extension": ".py",
   "mimetype": "text/x-python",
   "name": "python",
   "nbconvert_exporter": "python",
   "pygments_lexer": "ipython3",
   "version": "3.12.4"
  }
 },
 "nbformat": 4,
 "nbformat_minor": 2
}
