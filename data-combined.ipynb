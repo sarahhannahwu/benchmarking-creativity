{
 "cells": [
  {
   "cell_type": "markdown",
   "metadata": {},
   "source": [
    "## Decode shape binaries"
   ]
  },
  {
   "cell_type": "code",
   "execution_count": 1,
   "metadata": {},
   "outputs": [
    {
     "name": "stdout",
     "output_type": "stream",
     "text": [
      "(280, 3)\n"
     ]
    },
    {
     "data": {
      "text/html": [
       "<div>\n",
       "<style scoped>\n",
       "    .dataframe tbody tr th:only-of-type {\n",
       "        vertical-align: middle;\n",
       "    }\n",
       "\n",
       "    .dataframe tbody tr th {\n",
       "        vertical-align: top;\n",
       "    }\n",
       "\n",
       "    .dataframe thead th {\n",
       "        text-align: right;\n",
       "    }\n",
       "</style>\n",
       "<table border=\"1\" class=\"dataframe\">\n",
       "  <thead>\n",
       "    <tr style=\"text-align: right;\">\n",
       "      <th></th>\n",
       "      <th>shape</th>\n",
       "      <th>timestamp</th>\n",
       "      <th>timestamp_gallery</th>\n",
       "    </tr>\n",
       "  </thead>\n",
       "  <tbody>\n",
       "    <tr>\n",
       "      <th>0</th>\n",
       "      <td>1023</td>\n",
       "      <td>15.712</td>\n",
       "      <td></td>\n",
       "    </tr>\n",
       "    <tr>\n",
       "      <th>1</th>\n",
       "      <td>1023</td>\n",
       "      <td>16.927</td>\n",
       "      <td>31.45</td>\n",
       "    </tr>\n",
       "    <tr>\n",
       "      <th>2</th>\n",
       "      <td>512 1022</td>\n",
       "      <td>72.191</td>\n",
       "      <td></td>\n",
       "    </tr>\n",
       "    <tr>\n",
       "      <th>3</th>\n",
       "      <td>512 1020 4</td>\n",
       "      <td>74.190</td>\n",
       "      <td></td>\n",
       "    </tr>\n",
       "    <tr>\n",
       "      <th>4</th>\n",
       "      <td>256 1020 4</td>\n",
       "      <td>83.084</td>\n",
       "      <td></td>\n",
       "    </tr>\n",
       "  </tbody>\n",
       "</table>\n",
       "</div>"
      ],
      "text/plain": [
       "        shape  timestamp timestamp_gallery\n",
       "0        1023     15.712                  \n",
       "1        1023     16.927             31.45\n",
       "2    512 1022     72.191                  \n",
       "3  512 1020 4     74.190                  \n",
       "4  256 1020 4     83.084                  "
      ]
     },
     "metadata": {},
     "output_type": "display_data"
    }
   ],
   "source": [
    "import pandas as pd\n",
    "\n",
    "def decode_shape_binaries_str(encoded_str, bits=10):\n",
    "    \"\"\"\n",
    "    Decodes a single string of space-separated decimal codes into\n",
    "    a 2D list (shape) of 0/1 bits. Each code becomes one row in the shape.\n",
    "\n",
    "    :param encoded_str: A single string with space-separated decimal values\n",
    "                        (e.g., \"1016 64 64 64\").\n",
    "    :param bits: The fixed width of the binary representation (default=10).\n",
    "    :return: A list of lists, where each sub-list is a row of bits (0's and 1's).\n",
    "    \"\"\"\n",
    "    # Split the string by spaces to get each code as a separate token\n",
    "    codes = encoded_str.split()\n",
    "\n",
    "    shape = []\n",
    "    for code in codes:\n",
    "        # Convert the code (string) to an integer\n",
    "        number = int(code)\n",
    "\n",
    "        # Convert to binary, left-padded with zeros to the desired bit length\n",
    "        binary_str = format(number, 'b').rjust(bits, '0')\n",
    "\n",
    "        # Convert the binary string into a list of integer bits (0 or 1)\n",
    "        row_of_bits = [int(bit) for bit in binary_str]\n",
    "        shape.append(row_of_bits)\n",
    "\n",
    "    return shape\n",
    "\n",
    "# Test with a single participant's game data\n",
    "# fp = \"/Users/sarawu/Desktop/CAB/benchmarking-creativity/creative-foraging-human-data/Games/20120613_122200.txt\"\n",
    "fp = \"/Users/ronaldr/Downloads/Creative Foraging Game Data 1.0/Games/20120613_122200.txt\"\n",
    "\n",
    "# Load and name columns\n",
    "df = pd.read_csv(fp, sep=\"\\t\", header=None)\n",
    "df.columns = [\"shape\", \"timestamp\", \"timestamp_gallery\"] # add column names\n",
    "print(df.shape)\n",
    "display(df.head())\n",
    "\n",
    "# Decode the shape binaries\n",
    "df['shape_matrix'] = df['shape'].apply(decode_shape_binaries_str) # Create a column that contains the shape matrix, applied to each row\n",
    "df['shape_matrix_str'] = df['shape'].apply(lambda x: \"\\n\".join([\"\".join(map(str, row)) for row in decode_shape_binaries_str(x)]))\n"
   ]
  },
  {
   "cell_type": "code",
   "execution_count": 2,
   "metadata": {},
   "outputs": [
    {
     "name": "stdout",
     "output_type": "stream",
     "text": [
      "   0  1  2  3  4  5  6  7  8  9\n",
      "0  1  0  0  0  0  0  0  0  0  0\n",
      "1  1  1  1  1  1  1  1  1  1  0 \n",
      "\n",
      "   0  1  2  3  4  5  6  7  8  9\n",
      "0  1  0  0  0  0  0  0  0  0  0\n",
      "1  1  1  1  1  1  1  1  1  0  0\n",
      "2  0  0  0  0  0  0  0  1  0  0 \n",
      "\n",
      "   0  1  2  3  4  5  6  7  8  9\n",
      "0  2  0  0  0  0  0  0  0  0  0\n",
      "1  2  2  2  2  2  2  2  2  1  0\n",
      "2  0  0  0  0  0  0  0  0  0  0\n"
     ]
    }
   ],
   "source": [
    "# Example shape matrices\n",
    "tab1 = pd.DataFrame(df.iloc[2]['shape_matrix'])\n",
    "tab2 = pd.DataFrame(df.iloc[3]['shape_matrix'])\n",
    "print(tab1, '\\n')\n",
    "print(tab2, '\\n')\n",
    "print((tab1 + tab2).fillna(0).astype(int))\n"
   ]
  },
  {
   "cell_type": "code",
   "execution_count": 3,
   "metadata": {},
   "outputs": [
    {
     "name": "stdout",
     "output_type": "stream",
     "text": [
      "--------------------------------\n",
      "1023 \n",
      "\n"
     ]
    },
    {
     "data": {
      "image/png": "[encoded data removed]",
      "text/plain": [
       "<Figure size 500x200 with 2 Axes>"
      ]
     },
     "metadata": {},
     "output_type": "display_data"
    },
    {
     "name": "stdout",
     "output_type": "stream",
     "text": [
      "\n",
      "\n",
      "--------------------------------\n",
      "1023 \n",
      "\n"
     ]
    },
    {
     "data": {
      "image/png": "[encoded data removed]",
      "text/plain": [
       "<Figure size 500x200 with 2 Axes>"
      ]
     },
     "metadata": {},
     "output_type": "display_data"
    },
    {
     "name": "stdout",
     "output_type": "stream",
     "text": [
      "\n",
      "\n",
      "--------------------------------\n",
      "512 1022 \n",
      "\n"
     ]
    },
    {
     "data": {
      "image/png": "[encoded data removed]",
      "text/plain": [
       "<Figure size 500x200 with 2 Axes>"
      ]
     },
     "metadata": {},
     "output_type": "display_data"
    },
    {
     "name": "stdout",
     "output_type": "stream",
     "text": [
      "\n",
      "\n",
      "--------------------------------\n",
      "512 1020 4 \n",
      "\n"
     ]
    },
    {
     "data": {
      "image/png": "[encoded data removed]",
      "text/plain": [
       "<Figure size 500x200 with 2 Axes>"
      ]
     },
     "metadata": {},
     "output_type": "display_data"
    },
    {
     "name": "stdout",
     "output_type": "stream",
     "text": [
      "\n",
      "\n",
      "--------------------------------\n",
      "256 1020 4 \n",
      "\n"
     ]
    },
    {
     "data": {
      "image/png": "[encoded data removed]",
      "text/plain": [
       "<Figure size 500x200 with 2 Axes>"
      ]
     },
     "metadata": {},
     "output_type": "display_data"
    },
    {
     "name": "stdout",
     "output_type": "stream",
     "text": [
      "\n",
      "\n",
      "--------------------------------\n",
      "256 1020 8 \n",
      "\n"
     ]
    },
    {
     "data": {
      "image/png": "[encoded data removed]",
      "text/plain": [
       "<Figure size 500x200 with 2 Axes>"
      ]
     },
     "metadata": {},
     "output_type": "display_data"
    },
    {
     "name": "stdout",
     "output_type": "stream",
     "text": [
      "\n",
      "\n",
      "--------------------------------\n",
      "512 1016 528 \n",
      "\n"
     ]
    },
    {
     "data": {
      "image/png": "[encoded data removed]",
      "text/plain": [
       "<Figure size 500x200 with 2 Axes>"
      ]
     },
     "metadata": {},
     "output_type": "display_data"
    },
    {
     "name": "stdout",
     "output_type": "stream",
     "text": [
      "\n",
      "\n",
      "--------------------------------\n",
      "528 1008 528 \n",
      "\n"
     ]
    },
    {
     "data": {
      "image/png": "[encoded data removed]",
      "text/plain": [
       "<Figure size 500x200 with 2 Axes>"
      ]
     },
     "metadata": {},
     "output_type": "display_data"
    },
    {
     "name": "stdout",
     "output_type": "stream",
     "text": [
      "\n",
      "\n",
      "--------------------------------\n",
      "528 1016 512 \n",
      "\n"
     ]
    },
    {
     "data": {
      "image/png": "[encoded data removed]",
      "text/plain": [
       "<Figure size 500x200 with 2 Axes>"
      ]
     },
     "metadata": {},
     "output_type": "display_data"
    },
    {
     "name": "stdout",
     "output_type": "stream",
     "text": [
      "\n",
      "\n",
      "--------------------------------\n",
      "528 1008 528 \n",
      "\n"
     ]
    },
    {
     "data": {
      "image/png": "[encoded data removed]",
      "text/plain": [
       "<Figure size 500x200 with 2 Axes>"
      ]
     },
     "metadata": {},
     "output_type": "display_data"
    },
    {
     "name": "stdout",
     "output_type": "stream",
     "text": [
      "\n",
      "\n",
      "--------------------------------\n",
      "528 1008 272 \n",
      "\n"
     ]
    },
    {
     "data": {
      "image/png": "[encoded data removed]",
      "text/plain": [
       "<Figure size 500x200 with 2 Axes>"
      ]
     },
     "metadata": {},
     "output_type": "display_data"
    },
    {
     "name": "stdout",
     "output_type": "stream",
     "text": [
      "\n",
      "\n",
      "--------------------------------\n",
      "528 1008 288 \n",
      "\n"
     ]
    },
    {
     "data": {
      "image/png": "[encoded data removed]",
      "text/plain": [
       "<Figure size 500x200 with 2 Axes>"
      ]
     },
     "metadata": {},
     "output_type": "display_data"
    },
    {
     "name": "stdout",
     "output_type": "stream",
     "text": [
      "\n",
      "\n"
     ]
    }
   ],
   "source": [
    "import seaborn as sns\n",
    "import matplotlib.pyplot as plt\n",
    "\n",
    "# This visualizes the first N shapes in the dataset\n",
    "for idx, row in df.iterrows():\n",
    "    print(\"--------------------------------\")\n",
    "    print(row['shape'], '\\n')\n",
    "    # print(row['shape_matrix_str'])\n",
    "    fig, ax = plt.subplots(figsize=(5, 2))\n",
    "    sns.heatmap(row['shape_matrix'], annot=True, fmt=\"d\", cmap=\"binary\", ax=ax)\n",
    "    plt.show()\n",
    "    print(\"\\n\")\n",
    "    if idx > 10:\n",
    "        break\n"
   ]
  },
  {
   "cell_type": "markdown",
   "metadata": {},
   "source": [
    "## Load all data"
   ]
  },
  {
   "cell_type": "code",
   "execution_count": 4,
   "metadata": {},
   "outputs": [
    {
     "name": "stdout",
     "output_type": "stream",
     "text": [
      "(32319, 6)\n"
     ]
    },
    {
     "data": {
      "text/html": [
       "<div>\n",
       "<style scoped>\n",
       "    .dataframe tbody tr th:only-of-type {\n",
       "        vertical-align: middle;\n",
       "    }\n",
       "\n",
       "    .dataframe tbody tr th {\n",
       "        vertical-align: top;\n",
       "    }\n",
       "\n",
       "    .dataframe thead th {\n",
       "        text-align: right;\n",
       "    }\n",
       "</style>\n",
       "<table border=\"1\" class=\"dataframe\">\n",
       "  <thead>\n",
       "    <tr style=\"text-align: right;\">\n",
       "      <th></th>\n",
       "      <th>shape</th>\n",
       "      <th>timestamp</th>\n",
       "      <th>timestamp_gallery</th>\n",
       "      <th>game_file</th>\n",
       "      <th>shape_matrix</th>\n",
       "      <th>shape_matrix_str</th>\n",
       "    </tr>\n",
       "  </thead>\n",
       "  <tbody>\n",
       "    <tr>\n",
       "      <th>0</th>\n",
       "      <td>1023</td>\n",
       "      <td>16.038</td>\n",
       "      <td></td>\n",
       "      <td>20120513_091629.txt</td>\n",
       "      <td>[[1, 1, 1, 1, 1, 1, 1, 1, 1, 1]]</td>\n",
       "      <td>1111111111</td>\n",
       "    </tr>\n",
       "    <tr>\n",
       "      <th>1</th>\n",
       "      <td>1023</td>\n",
       "      <td>17.168</td>\n",
       "      <td>29.650000000000002</td>\n",
       "      <td>20120513_091629.txt</td>\n",
       "      <td>[[1, 1, 1, 1, 1, 1, 1, 1, 1, 1]]</td>\n",
       "      <td>1111111111</td>\n",
       "    </tr>\n",
       "    <tr>\n",
       "      <th>2</th>\n",
       "      <td>2 1022</td>\n",
       "      <td>76.165</td>\n",
       "      <td></td>\n",
       "      <td>20120513_091629.txt</td>\n",
       "      <td>[[0, 0, 0, 0, 0, 0, 0, 0, 1, 0], [1, 1, 1, 1, ...</td>\n",
       "      <td>0000000010\\n1111111110</td>\n",
       "    </tr>\n",
       "    <tr>\n",
       "      <th>3</th>\n",
       "      <td>4 1020 512</td>\n",
       "      <td>79.600</td>\n",
       "      <td></td>\n",
       "      <td>20120513_091629.txt</td>\n",
       "      <td>[[0, 0, 0, 0, 0, 0, 0, 1, 0, 0], [1, 1, 1, 1, ...</td>\n",
       "      <td>0000000100\\n1111111100\\n1000000000</td>\n",
       "    </tr>\n",
       "    <tr>\n",
       "      <th>4</th>\n",
       "      <td>4 1020 256</td>\n",
       "      <td>81.315</td>\n",
       "      <td></td>\n",
       "      <td>20120513_091629.txt</td>\n",
       "      <td>[[0, 0, 0, 0, 0, 0, 0, 1, 0, 0], [1, 1, 1, 1, ...</td>\n",
       "      <td>0000000100\\n1111111100\\n0100000000</td>\n",
       "    </tr>\n",
       "  </tbody>\n",
       "</table>\n",
       "</div>"
      ],
      "text/plain": [
       "        shape  timestamp   timestamp_gallery            game_file  \\\n",
       "0        1023     16.038                      20120513_091629.txt   \n",
       "1        1023     17.168  29.650000000000002  20120513_091629.txt   \n",
       "2      2 1022     76.165                      20120513_091629.txt   \n",
       "3  4 1020 512     79.600                      20120513_091629.txt   \n",
       "4  4 1020 256     81.315                      20120513_091629.txt   \n",
       "\n",
       "                                        shape_matrix  \\\n",
       "0                   [[1, 1, 1, 1, 1, 1, 1, 1, 1, 1]]   \n",
       "1                   [[1, 1, 1, 1, 1, 1, 1, 1, 1, 1]]   \n",
       "2  [[0, 0, 0, 0, 0, 0, 0, 0, 1, 0], [1, 1, 1, 1, ...   \n",
       "3  [[0, 0, 0, 0, 0, 0, 0, 1, 0, 0], [1, 1, 1, 1, ...   \n",
       "4  [[0, 0, 0, 0, 0, 0, 0, 1, 0, 0], [1, 1, 1, 1, ...   \n",
       "\n",
       "                     shape_matrix_str  \n",
       "0                          1111111111  \n",
       "1                          1111111111  \n",
       "2              0000000010\\n1111111110  \n",
       "3  0000000100\\n1111111100\\n1000000000  \n",
       "4  0000000100\\n1111111100\\n0100000000  "
      ]
     },
     "metadata": {},
     "output_type": "display_data"
    }
   ],
   "source": [
    "# Iterate through all the participants in the dataset\n",
    "import os\n",
    "\n",
    "df_list = []\n",
    "for participant_file in os.listdir(\"creative-foraging-human-data/Games\"):\n",
    "    # print(participant_file)\n",
    "    with open(\"creative-foraging-human-data/Games/\"+participant_file, 'r') as f:\n",
    "        df = pd.read_csv(f, sep=\"\\t\", header=None)\n",
    "        df.columns = [\"shape\", \"timestamp\", \"timestamp_gallery\"]\n",
    "        df['game_file'] = participant_file\n",
    "        df['shape_matrix'] = df['shape'].apply(decode_shape_binaries_str)\n",
    "        df['shape_matrix_str'] = df['shape'].apply(lambda x: \"\\n\".join([\"\".join(map(str, row)) for row in decode_shape_binaries_str(x)]))\n",
    "        df_list.append(df)\n",
    "\n",
    "df = pd.concat(df_list)\n",
    "print(df.shape)\n",
    "display(df.head())\n",
    "\n",
    "# Save the processed data\n",
    "df.to_csv(\"data/all-games.tsv\", index=False, sep=\"\\t\", quoting=2)\n"
   ]
  },
  {
   "cell_type": "code",
   "execution_count": 5,
   "metadata": {},
   "outputs": [
    {
     "data": {
      "text/html": [
       "<div>\n",
       "<style scoped>\n",
       "    .dataframe tbody tr th:only-of-type {\n",
       "        vertical-align: middle;\n",
       "    }\n",
       "\n",
       "    .dataframe tbody tr th {\n",
       "        vertical-align: top;\n",
       "    }\n",
       "\n",
       "    .dataframe thead th {\n",
       "        text-align: right;\n",
       "    }\n",
       "</style>\n",
       "<table border=\"1\" class=\"dataframe\">\n",
       "  <thead>\n",
       "    <tr style=\"text-align: right;\">\n",
       "      <th></th>\n",
       "      <th>shape</th>\n",
       "      <th>timestamp</th>\n",
       "      <th>timestamp_gallery</th>\n",
       "      <th>game_file</th>\n",
       "      <th>shape_matrix</th>\n",
       "      <th>shape_matrix_str</th>\n",
       "    </tr>\n",
       "  </thead>\n",
       "  <tbody>\n",
       "    <tr>\n",
       "      <th>0</th>\n",
       "      <td>1023</td>\n",
       "      <td>16.038</td>\n",
       "      <td></td>\n",
       "      <td>20120513_091629.txt</td>\n",
       "      <td>[[1, 1, 1, 1, 1, 1, 1, 1, 1, 1]]</td>\n",
       "      <td>1111111111</td>\n",
       "    </tr>\n",
       "    <tr>\n",
       "      <th>1</th>\n",
       "      <td>1023</td>\n",
       "      <td>17.168</td>\n",
       "      <td>29.650000000000002</td>\n",
       "      <td>20120513_091629.txt</td>\n",
       "      <td>[[1, 1, 1, 1, 1, 1, 1, 1, 1, 1]]</td>\n",
       "      <td>1111111111</td>\n",
       "    </tr>\n",
       "    <tr>\n",
       "      <th>2</th>\n",
       "      <td>2 1022</td>\n",
       "      <td>76.165</td>\n",
       "      <td></td>\n",
       "      <td>20120513_091629.txt</td>\n",
       "      <td>[[0, 0, 0, 0, 0, 0, 0, 0, 1, 0], [1, 1, 1, 1, ...</td>\n",
       "      <td>0000000010\\n1111111110</td>\n",
       "    </tr>\n",
       "    <tr>\n",
       "      <th>3</th>\n",
       "      <td>4 1020 512</td>\n",
       "      <td>79.600</td>\n",
       "      <td></td>\n",
       "      <td>20120513_091629.txt</td>\n",
       "      <td>[[0, 0, 0, 0, 0, 0, 0, 1, 0, 0], [1, 1, 1, 1, ...</td>\n",
       "      <td>0000000100\\n1111111100\\n1000000000</td>\n",
       "    </tr>\n",
       "    <tr>\n",
       "      <th>4</th>\n",
       "      <td>4 1020 256</td>\n",
       "      <td>81.315</td>\n",
       "      <td></td>\n",
       "      <td>20120513_091629.txt</td>\n",
       "      <td>[[0, 0, 0, 0, 0, 0, 0, 1, 0, 0], [1, 1, 1, 1, ...</td>\n",
       "      <td>0000000100\\n1111111100\\n0100000000</td>\n",
       "    </tr>\n",
       "    <tr>\n",
       "      <th>...</th>\n",
       "      <td>...</td>\n",
       "      <td>...</td>\n",
       "      <td>...</td>\n",
       "      <td>...</td>\n",
       "      <td>...</td>\n",
       "      <td>...</td>\n",
       "    </tr>\n",
       "    <tr>\n",
       "      <th>32314</th>\n",
       "      <td>896 320 448 256 256</td>\n",
       "      <td>953.421</td>\n",
       "      <td></td>\n",
       "      <td>20120611_131956.txt</td>\n",
       "      <td>[[1, 1, 1, 0, 0, 0, 0, 0, 0, 0], [0, 1, 0, 1, ...</td>\n",
       "      <td>1110000000\\n0101000000\\n0111000000\\n0100000000...</td>\n",
       "    </tr>\n",
       "    <tr>\n",
       "      <th>32315</th>\n",
       "      <td>960 128 224 128 128</td>\n",
       "      <td>954.556</td>\n",
       "      <td></td>\n",
       "      <td>20120611_131956.txt</td>\n",
       "      <td>[[1, 1, 1, 1, 0, 0, 0, 0, 0, 0], [0, 0, 1, 0, ...</td>\n",
       "      <td>1111000000\\n0010000000\\n0011100000\\n0010000000...</td>\n",
       "    </tr>\n",
       "    <tr>\n",
       "      <th>32316</th>\n",
       "      <td>960 640 192 128 128</td>\n",
       "      <td>955.716</td>\n",
       "      <td></td>\n",
       "      <td>20120611_131956.txt</td>\n",
       "      <td>[[1, 1, 1, 1, 0, 0, 0, 0, 0, 0], [1, 0, 1, 0, ...</td>\n",
       "      <td>1111000000\\n1010000000\\n0011000000\\n0010000000...</td>\n",
       "    </tr>\n",
       "    <tr>\n",
       "      <th>32317</th>\n",
       "      <td>960 640 640 128 128</td>\n",
       "      <td>956.739</td>\n",
       "      <td></td>\n",
       "      <td>20120611_131956.txt</td>\n",
       "      <td>[[1, 1, 1, 1, 0, 0, 0, 0, 0, 0], [1, 0, 1, 0, ...</td>\n",
       "      <td>1111000000\\n1010000000\\n1010000000\\n0010000000...</td>\n",
       "    </tr>\n",
       "    <tr>\n",
       "      <th>32318</th>\n",
       "      <td>896 640 896 128 128</td>\n",
       "      <td>957.848</td>\n",
       "      <td></td>\n",
       "      <td>20120611_131956.txt</td>\n",
       "      <td>[[1, 1, 1, 0, 0, 0, 0, 0, 0, 0], [1, 0, 1, 0, ...</td>\n",
       "      <td>1110000000\\n1010000000\\n1110000000\\n0010000000...</td>\n",
       "    </tr>\n",
       "  </tbody>\n",
       "</table>\n",
       "<p>32319 rows × 6 columns</p>\n",
       "</div>"
      ],
      "text/plain": [
       "                     shape  timestamp   timestamp_gallery  \\\n",
       "0                     1023     16.038                       \n",
       "1                     1023     17.168  29.650000000000002   \n",
       "2                   2 1022     76.165                       \n",
       "3               4 1020 512     79.600                       \n",
       "4               4 1020 256     81.315                       \n",
       "...                    ...        ...                 ...   \n",
       "32314  896 320 448 256 256    953.421                       \n",
       "32315  960 128 224 128 128    954.556                       \n",
       "32316  960 640 192 128 128    955.716                       \n",
       "32317  960 640 640 128 128    956.739                       \n",
       "32318  896 640 896 128 128    957.848                       \n",
       "\n",
       "                 game_file                                       shape_matrix  \\\n",
       "0      20120513_091629.txt                   [[1, 1, 1, 1, 1, 1, 1, 1, 1, 1]]   \n",
       "1      20120513_091629.txt                   [[1, 1, 1, 1, 1, 1, 1, 1, 1, 1]]   \n",
       "2      20120513_091629.txt  [[0, 0, 0, 0, 0, 0, 0, 0, 1, 0], [1, 1, 1, 1, ...   \n",
       "3      20120513_091629.txt  [[0, 0, 0, 0, 0, 0, 0, 1, 0, 0], [1, 1, 1, 1, ...   \n",
       "4      20120513_091629.txt  [[0, 0, 0, 0, 0, 0, 0, 1, 0, 0], [1, 1, 1, 1, ...   \n",
       "...                    ...                                                ...   \n",
       "32314  20120611_131956.txt  [[1, 1, 1, 0, 0, 0, 0, 0, 0, 0], [0, 1, 0, 1, ...   \n",
       "32315  20120611_131956.txt  [[1, 1, 1, 1, 0, 0, 0, 0, 0, 0], [0, 0, 1, 0, ...   \n",
       "32316  20120611_131956.txt  [[1, 1, 1, 1, 0, 0, 0, 0, 0, 0], [1, 0, 1, 0, ...   \n",
       "32317  20120611_131956.txt  [[1, 1, 1, 1, 0, 0, 0, 0, 0, 0], [1, 0, 1, 0, ...   \n",
       "32318  20120611_131956.txt  [[1, 1, 1, 0, 0, 0, 0, 0, 0, 0], [1, 0, 1, 0, ...   \n",
       "\n",
       "                                        shape_matrix_str  \n",
       "0                                             1111111111  \n",
       "1                                             1111111111  \n",
       "2                                 0000000010\\n1111111110  \n",
       "3                     0000000100\\n1111111100\\n1000000000  \n",
       "4                     0000000100\\n1111111100\\n0100000000  \n",
       "...                                                  ...  \n",
       "32314  1110000000\\n0101000000\\n0111000000\\n0100000000...  \n",
       "32315  1111000000\\n0010000000\\n0011100000\\n0010000000...  \n",
       "32316  1111000000\\n1010000000\\n0011000000\\n0010000000...  \n",
       "32317  1111000000\\n1010000000\\n1010000000\\n0010000000...  \n",
       "32318  1110000000\\n1010000000\\n1110000000\\n0010000000...  \n",
       "\n",
       "[32319 rows x 6 columns]"
      ]
     },
     "execution_count": 5,
     "metadata": {},
     "output_type": "execute_result"
    }
   ],
   "source": [
    "df = pd.read_csv(\"data/all-games.tsv\", sep=\"\\t\")\n",
    "df"
   ]
  },
  {
   "cell_type": "code",
   "execution_count": 6,
   "metadata": {},
   "outputs": [
    {
     "data": {
      "text/plain": [
       "<Axes: >"
      ]
     },
     "execution_count": 6,
     "metadata": {},
     "output_type": "execute_result"
    },
    {
     "data": {
      "image/png": "[encoded data removed]",
      "text/plain": [
       "<Figure size 640x480 with 1 Axes>"
      ]
     },
     "metadata": {},
     "output_type": "display_data"
    }
   ],
   "source": [
    "df.groupby(\"game_file\").size().sort_values(ascending=False).hist()"
   ]
  },
  {
   "cell_type": "code",
   "execution_count": null,
   "metadata": {},
   "outputs": [],
   "source": []
  },
  {
   "cell_type": "code",
   "execution_count": 7,
   "metadata": {},
   "outputs": [
    {
     "name": "stdout",
     "output_type": "stream",
     "text": [
      "Phases for A: ['exploration', 'exploration', 'exploitation', 'exploitation', 'exploitation', 'exploration', 'exploitation', 'exploitation', 'exploitation']\n",
      "Phases for B: ['exploration', 'exploration', 'exploitation', 'exploitation', 'exploitation', 'exploitation', 'exploitation', 'exploitation']\n"
     ]
    }
   ],
   "source": [
    "\n",
    "\n",
    "# Create a thresholding algorithm that tags exploitaion and exploration phases\n",
    "# exploitation is when players' time intervals between consecutive choices to the gallery are decreasing\n",
    "# exploration phases is when players' time intervals between consecutive choices to the gallery are increasing\n",
    "\n",
    "def identify_exploitation_phases(time_intervals):\n",
    "    exploitation_phases = []\n",
    "    current_phase = []\n",
    "\n",
    "    for i in range(1, len(time_intervals)):\n",
    "        if time_intervals[i] < time_intervals[i - 1]:\n",
    "            if not current_phase:\n",
    "                current_phase.append(time_intervals[i - 1])\n",
    "            current_phase.append(time_intervals[i])\n",
    "        else:\n",
    "            if current_phase:\n",
    "                exploitation_phases.append(current_phase)\n",
    "                current_phase = []\n",
    "\n",
    "    if current_phase:\n",
    "        exploitation_phases.append(current_phase)\n",
    "\n",
    "    return exploitation_phases\n",
    "\n",
    "def merge_exploitation_phases(exploitation_phases):\n",
    "    merged_phases = []\n",
    "    i = 0\n",
    "\n",
    "    while i < len(exploitation_phases):\n",
    "        current_phase = exploitation_phases[i]\n",
    "        while i + 1 < len(exploitation_phases) and max(current_phase) > max(exploitation_phases[i + 1]):\n",
    "            current_phase.extend(exploitation_phases[i + 1])\n",
    "            i += 1\n",
    "        merged_phases.append(current_phase)\n",
    "        i += 1\n",
    "\n",
    "    return merged_phases\n",
    "\n",
    "def tag_phases(time_intervals):\n",
    "    exploitation_phases = identify_exploitation_phases(time_intervals)\n",
    "    merged_phases = merge_exploitation_phases(exploitation_phases)\n",
    "\n",
    "    phase_labels = ['exploration'] * len(time_intervals)\n",
    "    for phase in merged_phases:\n",
    "        start_idx = time_intervals.index(phase[0])\n",
    "        end_idx = start_idx + len(phase)\n",
    "        for i in range(start_idx, end_idx):\n",
    "            phase_labels[i] = 'exploitation'\n",
    "\n",
    "    return phase_labels\n",
    "\n",
    "# Example usage\n",
    "time_intervals_A = [10, 20, 70, 30, 20, 40, 90, 40, 10]\n",
    "time_intervals_B = [10, 20, 70, 30, 20, 50, 40, 10]\n",
    "\n",
    "phases_A = tag_phases(time_intervals_A)\n",
    "phases_B = tag_phases(time_intervals_B)\n",
    "\n",
    "print(\"Phases for A:\", phases_A)\n",
    "print(\"Phases for B:\", phases_B)"
   ]
  }
 ],
 "metadata": {
  "kernelspec": {
   "display_name": "data-voids-aD7q7cFt-py3.12",
   "language": "python",
   "name": "python3"
  },
  "language_info": {
   "codemirror_mode": {
    "name": "ipython",
    "version": 3
   },
   "file_extension": ".py",
   "mimetype": "text/x-python",
   "name": "python",
   "nbconvert_exporter": "python",
   "pygments_lexer": "ipython3",
   "version": "3.12.8"
  }
 },
 "nbformat": 4,
 "nbformat_minor": 2
}
