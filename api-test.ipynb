{
 "cells": [
  {
   "cell_type": "markdown",
   "metadata": {},
   "source": [
    "# LLM API Testing"
   ]
  },
  {
   "cell_type": "markdown",
   "metadata": {},
   "source": [
    "## Validate game moves\n",
    "### Two checks to validate the move:\n",
    "### 1. Check that the square is valid to move (it's not surrounded by other squares)\n",
    "### 2. Check to make sure the change results in a contiguous shape"
   ]
  },
  {
   "cell_type": "code",
   "execution_count": 10,
   "metadata": {},
   "outputs": [
    {
     "name": "stdout",
     "output_type": "stream",
     "text": [
      "True\n"
     ]
    }
   ],
   "source": [
    "# Define a function to check that a square is valid to move.\n",
    "# The function will take in the 10x10 grid and the coordinates of the square to be moved.\n",
    "def is_valid_square(grid, coordinates):\n",
    "    adjacent_squares = [\n",
    "        coordinates[0] - 1, coordinates[1],\n",
    "        coordinates[0] + 1, coordinates[1],\n",
    "        coordinates[0], coordinates[1] - 1,\n",
    "        coordinates[0], coordinates[1] + 1\n",
    "    ]\n",
    "\n",
    "    if grid[coordinates[0]][coordinates[1]] == 1: # First check to make sure the coordinates correspond to a 1\n",
    "        for pos in adjacent_squares: # If so, then check if any of the adjacent squares are 0\n",
    "            if grid[adjacent_squares[0]][adjacent_squares[1]] == 0:\n",
    "                return True\n",
    "    return False\n",
    "\n",
    "# Example usage\n",
    "grid = [\n",
    "    [1, 1, 1, 1, 1, 0, 0, 0, 0, 0],\n",
    "    [1, 0, 0, 1, 1, 1, 1, 0, 0, 0],\n",
    "    [0, 0, 0, 0, 0, 0, 0, 0, 0, 0],\n",
    "    [0, 0, 0, 0, 0, 0, 0, 0, 0, 0],\n",
    "    [0, 0, 0, 0, 0, 0, 0, 0, 0, 0],\n",
    "    [0, 0, 0, 0, 0, 0, 0, 0, 0, 0],\n",
    "    [0, 0, 0, 0, 0, 0, 0, 0, 0, 0],\n",
    "    [0, 0, 0, 0, 0, 0, 0, 0, 0, 0],\n",
    "    [0, 0, 0, 0, 0, 0, 0, 0, 0, 0],\n",
    "    [0, 0, 0, 0, 0, 0, 0, 0, 0, 0]\n",
    "]\n",
    "coordinates = (1,5)\n",
    "print(is_valid_square(grid, coordinates)) "
   ]
  },
  {
   "cell_type": "code",
   "execution_count": 17,
   "metadata": {},
   "outputs": [
    {
     "name": "stdout",
     "output_type": "stream",
     "text": [
      "True\n"
     ]
    }
   ],
   "source": [
    "\n",
    "    \n",
    "# Define a function for check 2 using DFS.\n",
    "# It takes in the 10x10 grid and the coordinates of a starting point on the shape.\n",
    "# If the count = 10, the function will return True, indicating that the move is valid.\n",
    "def is_contiguous(grid, start):\n",
    "    rows = len(grid)\n",
    "    cols = len(grid[0])\n",
    "    visited = set()\n",
    "    \n",
    "    def dfs(r, c):\n",
    "        if (r, c) in visited or not (0 <= r < rows and 0 <= c < cols) or grid[r][c] == 0:\n",
    "            return 0\n",
    "        visited.add((r, c))\n",
    "        count = 1 \n",
    "        for dr, dc in [(-1, 0), (1, 0), (0, -1), (0, 1)]: # Check all 4 directions\n",
    "            count += dfs(r + dr, c + dc)\n",
    "        return count\n",
    "    \n",
    "    return dfs(start[0], start[1]) == 10\n",
    "\n",
    "# Example usage:\n",
    "grid = [\n",
    "    [0, 0, 0, 0, 0, 0, 0, 0, 0, 0],\n",
    "    [0, 0, 0, 1, 1, 1, 1, 1, 1, 1],\n",
    "    [0, 0, 0, 0, 0, 1, 0, 0, 0, 0],\n",
    "    [0, 0, 0, 0, 0, 1, 0, 0, 0, 0],\n",
    "    [0, 0, 0, 0, 0, 1, 0, 0, 0, 0],\n",
    "    [0, 0, 0, 0, 0, 0, 0, 0, 0, 0],\n",
    "    [0, 0, 0, 0, 0, 0, 0, 0, 0, 0],\n",
    "    [0, 0, 0, 0, 0, 0, 0, 0, 0, 0],\n",
    "    [0, 0, 0, 0, 0, 0, 0, 0, 0, 0],\n",
    "    [0, 0, 0, 0, 0, 0, 0, 0, 0, 0]\n",
    "]\n",
    "start = (1, 3)\n",
    "print(is_contiguous(grid, start))  \n",
    "    \n",
    "\n"
   ]
  },
  {
   "cell_type": "code",
   "execution_count": 18,
   "metadata": {},
   "outputs": [
    {
     "name": "stdout",
     "output_type": "stream",
     "text": [
      "False\n"
     ]
    }
   ],
   "source": [
    "# Define a function to check that there is exactly one change between the previous shape and the new shape.\n",
    "\n",
    "def is_one_change(grid1, grid2):\n",
    "    count = 0\n",
    "    for i in range(len(grid1)):\n",
    "        for j in range(len(grid1[0])):\n",
    "            if grid1[i][j] != grid2[i][j]:\n",
    "                count += 1\n",
    "    return count == 1\n",
    "\n",
    "# Example usage:\n",
    "grid1 = [\n",
    "    [0, 0, 0, 0, 0, 0, 0, 0, 0, 0],\n",
    "    [0, 0, 0, 1, 1, 1, 1, 1, 1, 1],\n",
    "    [0, 0, 0, 0, 0, 1, 0, 0, 0, 0],\n",
    "    [0, 0, 0, 0, 0, 1, 0, 0, 0, 0],\n",
    "    [0, 0, 0, 0, 0, 1, 0, 0, 0, 0],\n",
    "    [0, 0, 0, 0, 0, 0, 0, 0, 0, 0],\n",
    "    [0, 0, 0, 0, 0, 0, 0, 0, 0, 0],\n",
    "    [0, 0, 0, 0, 0, 0, 0, 0, 0, 0],\n",
    "    [0, 0, 0, 0, 0, 0, 0, 0, 0, 0],\n",
    "    [0, 0, 0, 0, 0, 0, 0, 0, 0, 0]\n",
    "]\n",
    "grid2 = [     \n",
    "    [0, 0, 0, 0, 0, 0, 0, 0, 0, 0],\n",
    "    [0, 0, 0, 1, 1, 1, 1, 1, 1, 0],\n",
    "    [0, 0, 0, 0, 0, 1, 0, 0, 1, 0],\n",
    "    [0, 0, 0, 0, 1, 1, 0, 0, 0, 0],\n",
    "    [0, 0, 0, 0, 0, 0, 0, 0, 0, 0],\n",
    "    [0, 0, 0, 0, 0, 0, 0, 0, 0, 0],\n",
    "    [0, 0, 0, 0, 0, 0, 0, 0, 0, 0],\n",
    "    [0, 0, 0, 0, 0, 0, 0, 0, 0, 0],\n",
    "    [0, 0, 0, 0, 0, 0, 0, 0, 0, 0],\n",
    "    [0, 0, 0, 0, 0, 0, 0, 0, 0, 0]\n",
    "]\n",
    "print(is_one_change(grid1, grid2)) "
   ]
  },
  {
   "cell_type": "markdown",
   "metadata": {},
   "source": [
    "# Get response from LLM"
   ]
  },
  {
   "cell_type": "code",
   "execution_count": 3,
   "metadata": {},
   "outputs": [
    {
     "data": {
      "text/plain": [
       "{'user_prompt': 'instructions/version1.txt',\n",
       " 'prompt': '{\"current_shape\": \"1023\"}',\n",
       " 'current_shape': '1023',\n",
       " 'last_shape': None,\n",
       " 'response': '2 1022',\n",
       " 'timestamp': '2025-01-30T14:03:08.350019',\n",
       " 'valid_move': True}"
      ]
     },
     "execution_count": 3,
     "metadata": {},
     "output_type": "execute_result"
    }
   ],
   "source": [
    "import json\n",
    "import datetime\n",
    "\n",
    "\n",
    "\n",
    "# Set your OpenAI API key\n",
    "# import openai\n",
    "# openai.api_key = 'XXXXXX'\n",
    "\n",
    "# Define a function to get a response from the OpenAI API\n",
    "def get_openai_response_fake(user_prompt, prompt):\n",
    "    # use user_prompt as file_name to get the full game instructions\n",
    "    try:\n",
    "        prompt = {k:v for k,v in prompt.items() if v}  # Remove empty values from prompt (e.g., initial prompt)\n",
    "        input = {\n",
    "            'user_prompt': user_prompt,    # Full game instructions\n",
    "            'prompt': json.dumps(prompt),  # Current move instructions (dict dumped to string)\n",
    "        }\n",
    "\n",
    "        # Todo: actually call API\n",
    "        response = \"2 1022\"  # Hardcoded fake response\n",
    "        output = input.copy()\n",
    "        output['current_shape'] = prompt.get('current_shape')\n",
    "        output['last_shape'] = prompt.get('last_shape')\n",
    "        output['response'] = response\n",
    "        output['timestamp'] = datetime.datetime.now().isoformat()\n",
    "        output['valid_move'] = True # TODO Hardcoded, but need to write a function for checking\n",
    "        return output\n",
    "    except Exception as e:\n",
    "        return f\"An error occurred: {e}\"\n",
    "    \n",
    "# Valid moves example\n",
    "# 1023 -> 2 1022 -> 4 1020 512\n",
    "\n",
    "# Single example\n",
    "user_prompt = \"instructions/version1.txt\"\n",
    "prompt={\n",
    "    \"current_shape\": \"1023\", \n",
    "    \"last_shape\": \"\"\n",
    "}\n",
    "get_openai_response_fake(user_prompt, prompt)"
   ]
  },
  {
   "cell_type": "code",
   "execution_count": 4,
   "metadata": {},
   "outputs": [
    {
     "name": "stdout",
     "output_type": "stream",
     "text": [
      "{'user_prompt': 'instructions/version1.txt', 'prompt': '{\"current_shape\": \"1023\"}', 'current_shape': '1023', 'last_shape': None, 'response': '2 1022', 'timestamp': '2025-01-30T14:03:08.384481', 'valid_move': True}\n",
      "{'user_prompt': 'instructions/version1.txt', 'prompt': '{\"current_shape\": \"2 1022\"}', 'current_shape': '2 1022', 'last_shape': None, 'response': '2 1022', 'timestamp': '2025-01-30T14:03:08.384932', 'valid_move': True}\n",
      "{'user_prompt': 'instructions/version1.txt', 'prompt': '{\"current_shape\": \"2 1022\"}', 'current_shape': '2 1022', 'last_shape': None, 'response': '2 1022', 'timestamp': '2025-01-30T14:03:08.385012', 'valid_move': True}\n",
      "{'user_prompt': 'instructions/version1.txt', 'prompt': '{\"current_shape\": \"2 1022\"}', 'current_shape': '2 1022', 'last_shape': None, 'response': '2 1022', 'timestamp': '2025-01-30T14:03:08.385114', 'valid_move': True}\n",
      "{'user_prompt': 'instructions/version1.txt', 'prompt': '{\"current_shape\": \"2 1022\"}', 'current_shape': '2 1022', 'last_shape': None, 'response': '2 1022', 'timestamp': '2025-01-30T14:03:08.385161', 'valid_move': True}\n",
      "{'user_prompt': 'instructions/version1.txt', 'prompt': '{\"current_shape\": \"2 1022\"}', 'current_shape': '2 1022', 'last_shape': None, 'response': '2 1022', 'timestamp': '2025-01-30T14:03:08.385215', 'valid_move': True}\n",
      "{'user_prompt': 'instructions/version1.txt', 'prompt': '{\"current_shape\": \"2 1022\"}', 'current_shape': '2 1022', 'last_shape': None, 'response': '2 1022', 'timestamp': '2025-01-30T14:03:08.385291', 'valid_move': True}\n",
      "{'user_prompt': 'instructions/version1.txt', 'prompt': '{\"current_shape\": \"2 1022\"}', 'current_shape': '2 1022', 'last_shape': None, 'response': '2 1022', 'timestamp': '2025-01-30T14:03:08.385317', 'valid_move': True}\n",
      "{'user_prompt': 'instructions/version1.txt', 'prompt': '{\"current_shape\": \"2 1022\"}', 'current_shape': '2 1022', 'last_shape': None, 'response': '2 1022', 'timestamp': '2025-01-30T14:03:08.385357', 'valid_move': True}\n",
      "{'user_prompt': 'instructions/version1.txt', 'prompt': '{\"current_shape\": \"2 1022\"}', 'current_shape': '2 1022', 'last_shape': None, 'response': '2 1022', 'timestamp': '2025-01-30T14:03:08.385443', 'valid_move': True}\n"
     ]
    }
   ],
   "source": [
    "# Interaction loop for game\n",
    "\n",
    "THRESHOLD_TOTAL_MOVES = 10\n",
    "THRESHOLD_TOTAL_RETRIES = 10\n",
    "\n",
    "user_prompt = \"instructions/version1.txt\"\n",
    "prompt={\n",
    "    \"current_shape\": \"1023\", \n",
    "    \"last_shape\": \"\"\n",
    "}\n",
    "\n",
    "move_count = 0\n",
    "retry_count = 0\n",
    "\n",
    "while move_count < THRESHOLD_TOTAL_MOVES and retry_count < THRESHOLD_TOTAL_RETRIES:\n",
    "    output = get_openai_response_fake(user_prompt, prompt)\n",
    "    print(output)\n",
    "    if output['valid_move']:\n",
    "        move_count += 1\n",
    "        retry_count = 0\n",
    "        prompt['current_shape'] = output['response']\n",
    "    else:\n",
    "        retry_count += 1\n",
    "        print(f\"Invalid move, retrying... {retry_count} / {THRESHOLD_TOTAL_RETRIES}\")\n",
    "    \n",
    "    # TODO: save response dictionary to file (append as you go)\n"
   ]
  }
 ],
 "metadata": {
  "kernelspec": {
   "display_name": "default_env",
   "language": "python",
   "name": "python3"
  },
  "language_info": {
   "codemirror_mode": {
    "name": "ipython",
    "version": 3
   },
   "file_extension": ".py",
   "mimetype": "text/x-python",
   "name": "python",
   "nbconvert_exporter": "python",
   "pygments_lexer": "ipython3",
   "version": "3.8.20"
  }
 },
 "nbformat": 4,
 "nbformat_minor": 2
}
