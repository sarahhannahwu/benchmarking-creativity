{
 "cells": [
  {
   "cell_type": "markdown",
   "metadata": {},
   "source": [
    "# LLM API Testing"
   ]
  },
  {
   "cell_type": "markdown",
   "metadata": {},
   "source": [
    "## Validate game moves"
   ]
  },
  {
   "cell_type": "code",
   "execution_count": 6,
   "metadata": {},
   "outputs": [
    {
     "name": "stdout",
     "output_type": "stream",
     "text": [
      "True\n",
      "False\n"
     ]
    }
   ],
   "source": [
    "# Define a function to validate a move\n",
    "def is_valid_move(shape, move_from, move_to):\n",
    "    rows = len(shape)\n",
    "    cols = len(shape[0])\n",
    "    \n",
    "    # Check if move_from and move_to are within bounds\n",
    "    if not (0 <= move_from[0] < rows and 0 <= move_from[1] < cols):\n",
    "        return False\n",
    "    if not (0 <= move_to[0] < rows and 0 <= move_to[1] < cols):\n",
    "        return False\n",
    "    \n",
    "    # Check if there is a square at move_from and no square at move_to\n",
    "    if shape[move_from[0]][move_from[1]] == 0 or shape[move_to[0]][move_to[1]] == 1:\n",
    "        return False\n",
    "    \n",
    "    # Check if move_from is not in the center\n",
    "    center_row = rows // 2\n",
    "    center_col = cols // 2\n",
    "    if move_from == (center_row, center_col):\n",
    "        return False\n",
    "    \n",
    "    # Check if move_to is adjacent to an existing square (not diagonally)\n",
    "    adjacent_positions = [\n",
    "        (move_to[0] - 1, move_to[1]),  # Up\n",
    "        (move_to[0] + 1, move_to[1]),  # Down\n",
    "        (move_to[0], move_to[1] - 1),  # Left\n",
    "        (move_to[0], move_to[1] + 1)   # Right\n",
    "    ]\n",
    "    \n",
    "    for pos in adjacent_positions:\n",
    "        if 0 <= pos[0] < rows and 0 <= pos[1] < cols and shape[pos[0]][pos[1]] == 1:\n",
    "            return True\n",
    "    \n",
    "    return False\n",
    "\n",
    "# Example usage:\n",
    "shape = [\n",
    "    [1, 1, 1, 1, 1],\n",
    "    [1, 1, 1, 1, 1],\n",
    "    [0, 0, 0, 0, 0],\n",
    "    [0, 0, 0, 0, 0],\n",
    "    [0, 0, 0, 0, 0]\n",
    "]\n",
    "move_from = (0, 4)\n",
    "move_to = (2, 2)\n",
    "print(is_valid_move(shape, move_from, move_to))  # Output: True (adjacent)\n",
    "\n",
    "move_from = (0, 4)\n",
    "move_to = (1, 4)\n",
    "print(is_valid_move(shape, move_from, move_to))  # Output: False (not adjacent)\n",
    "\n"
   ]
  },
  {
   "cell_type": "code",
   "execution_count": 5,
   "metadata": {},
   "outputs": [
    {
     "name": "stdout",
     "output_type": "stream",
     "text": [
      "True\n"
     ]
    }
   ],
   "source": [
    "tt"
   ]
  },
  {
   "cell_type": "markdown",
   "metadata": {},
   "source": [
    "# Get response from LLM"
   ]
  },
  {
   "cell_type": "code",
   "execution_count": 3,
   "metadata": {},
   "outputs": [
    {
     "data": {
      "text/plain": [
       "{'user_prompt': 'instructions/version1.txt',\n",
       " 'prompt': '{\"current_shape\": \"1023\"}',\n",
       " 'current_shape': '1023',\n",
       " 'last_shape': None,\n",
       " 'response': '2 1022',\n",
       " 'timestamp': '2025-01-30T14:03:08.350019',\n",
       " 'valid_move': True}"
      ]
     },
     "execution_count": 3,
     "metadata": {},
     "output_type": "execute_result"
    }
   ],
   "source": [
    "import json\n",
    "import datetime\n",
    "\n",
    "\n",
    "\n",
    "# Set your OpenAI API key\n",
    "# import openai\n",
    "# openai.api_key = 'XXXXXX'\n",
    "\n",
    "# Define a function to get a response from the OpenAI API\n",
    "def get_openai_response_fake(user_prompt, prompt):\n",
    "    # use user_prompt as file_name to get the full game instructions\n",
    "    try:\n",
    "        prompt = {k:v for k,v in prompt.items() if v}  # Remove empty values from prompt (e.g., initial prompt)\n",
    "        input = {\n",
    "            'user_prompt': user_prompt,    # Full game instructions\n",
    "            'prompt': json.dumps(prompt),  # Current move instructions (dict dumped to string)\n",
    "        }\n",
    "\n",
    "        # Todo: actually call API\n",
    "        response = \"2 1022\"  # Hardcoded fake response\n",
    "        output = input.copy()\n",
    "        output['current_shape'] = prompt.get('current_shape')\n",
    "        output['last_shape'] = prompt.get('last_shape')\n",
    "        output['response'] = response\n",
    "        output['timestamp'] = datetime.datetime.now().isoformat()\n",
    "        output['valid_move'] = True # TODO Hardcoded, but need to write a function for checking\n",
    "        return output\n",
    "    except Exception as e:\n",
    "        return f\"An error occurred: {e}\"\n",
    "    \n",
    "# Valid moves example\n",
    "# 1023 -> 2 1022 -> 4 1020 512\n",
    "\n",
    "# Single example\n",
    "user_prompt = \"instructions/version1.txt\"\n",
    "prompt={\n",
    "    \"current_shape\": \"1023\", \n",
    "    \"last_shape\": \"\"\n",
    "}\n",
    "get_openai_response_fake(user_prompt, prompt)"
   ]
  },
  {
   "cell_type": "code",
   "execution_count": 4,
   "metadata": {},
   "outputs": [
    {
     "name": "stdout",
     "output_type": "stream",
     "text": [
      "{'user_prompt': 'instructions/version1.txt', 'prompt': '{\"current_shape\": \"1023\"}', 'current_shape': '1023', 'last_shape': None, 'response': '2 1022', 'timestamp': '2025-01-30T14:03:08.384481', 'valid_move': True}\n",
      "{'user_prompt': 'instructions/version1.txt', 'prompt': '{\"current_shape\": \"2 1022\"}', 'current_shape': '2 1022', 'last_shape': None, 'response': '2 1022', 'timestamp': '2025-01-30T14:03:08.384932', 'valid_move': True}\n",
      "{'user_prompt': 'instructions/version1.txt', 'prompt': '{\"current_shape\": \"2 1022\"}', 'current_shape': '2 1022', 'last_shape': None, 'response': '2 1022', 'timestamp': '2025-01-30T14:03:08.385012', 'valid_move': True}\n",
      "{'user_prompt': 'instructions/version1.txt', 'prompt': '{\"current_shape\": \"2 1022\"}', 'current_shape': '2 1022', 'last_shape': None, 'response': '2 1022', 'timestamp': '2025-01-30T14:03:08.385114', 'valid_move': True}\n",
      "{'user_prompt': 'instructions/version1.txt', 'prompt': '{\"current_shape\": \"2 1022\"}', 'current_shape': '2 1022', 'last_shape': None, 'response': '2 1022', 'timestamp': '2025-01-30T14:03:08.385161', 'valid_move': True}\n",
      "{'user_prompt': 'instructions/version1.txt', 'prompt': '{\"current_shape\": \"2 1022\"}', 'current_shape': '2 1022', 'last_shape': None, 'response': '2 1022', 'timestamp': '2025-01-30T14:03:08.385215', 'valid_move': True}\n",
      "{'user_prompt': 'instructions/version1.txt', 'prompt': '{\"current_shape\": \"2 1022\"}', 'current_shape': '2 1022', 'last_shape': None, 'response': '2 1022', 'timestamp': '2025-01-30T14:03:08.385291', 'valid_move': True}\n",
      "{'user_prompt': 'instructions/version1.txt', 'prompt': '{\"current_shape\": \"2 1022\"}', 'current_shape': '2 1022', 'last_shape': None, 'response': '2 1022', 'timestamp': '2025-01-30T14:03:08.385317', 'valid_move': True}\n",
      "{'user_prompt': 'instructions/version1.txt', 'prompt': '{\"current_shape\": \"2 1022\"}', 'current_shape': '2 1022', 'last_shape': None, 'response': '2 1022', 'timestamp': '2025-01-30T14:03:08.385357', 'valid_move': True}\n",
      "{'user_prompt': 'instructions/version1.txt', 'prompt': '{\"current_shape\": \"2 1022\"}', 'current_shape': '2 1022', 'last_shape': None, 'response': '2 1022', 'timestamp': '2025-01-30T14:03:08.385443', 'valid_move': True}\n"
     ]
    }
   ],
   "source": [
    "# Interaction loop for game\n",
    "\n",
    "THRESHOLD_TOTAL_MOVES = 10\n",
    "THRESHOLD_TOTAL_RETRIES = 10\n",
    "\n",
    "user_prompt = \"instructions/version1.txt\"\n",
    "prompt={\n",
    "    \"current_shape\": \"1023\", \n",
    "    \"last_shape\": \"\"\n",
    "}\n",
    "\n",
    "move_count = 0\n",
    "retry_count = 0\n",
    "\n",
    "while move_count < THRESHOLD_TOTAL_MOVES and retry_count < THRESHOLD_TOTAL_RETRIES:\n",
    "    output = get_openai_response_fake(user_prompt, prompt)\n",
    "    print(output)\n",
    "    if output['valid_move']:\n",
    "        move_count += 1\n",
    "        retry_count = 0\n",
    "        prompt['current_shape'] = output['response']\n",
    "    else:\n",
    "        retry_count += 1\n",
    "        print(f\"Invalid move, retrying... {retry_count} / {THRESHOLD_TOTAL_RETRIES}\")\n",
    "    \n",
    "    # TODO: save response dictionary to file (append as you go)\n"
   ]
  }
 ],
 "metadata": {
  "kernelspec": {
   "display_name": "default_env",
   "language": "python",
   "name": "python3"
  },
  "language_info": {
   "codemirror_mode": {
    "name": "ipython",
    "version": 3
   },
   "file_extension": ".py",
   "mimetype": "text/x-python",
   "name": "python",
   "nbconvert_exporter": "python",
   "pygments_lexer": "ipython3",
   "version": "3.8.20"
  }
 },
 "nbformat": 4,
 "nbformat_minor": 2
}
