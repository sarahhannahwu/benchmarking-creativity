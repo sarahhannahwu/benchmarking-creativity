{
 "cells": [
  {
   "cell_type": "markdown",
   "metadata": {},
   "source": [
    "# LLM API Testing"
   ]
  },
  {
   "cell_type": "markdown",
   "metadata": {},
   "source": [
    "## Validate game moves\n",
    "### [Demo of the game:](https://www.youtube.com/watch?v=UIB1epCwv4k)\n",
    "### Three checks to validate the move:\n",
    "#### 1. Count to check that there are exactly 10 1's.\n",
    "#### 2.     If so, check to make sure the change results in a contiguous shape\n",
    "#### 3. Check that there was only one change between previous and new shape."
   ]
  },
  {
   "cell_type": "code",
   "execution_count": 1,
   "metadata": {},
   "outputs": [
    {
     "data": {
      "text/html": [
       "<div>\n",
       "<style scoped>\n",
       "    .dataframe tbody tr th:only-of-type {\n",
       "        vertical-align: middle;\n",
       "    }\n",
       "\n",
       "    .dataframe tbody tr th {\n",
       "        vertical-align: top;\n",
       "    }\n",
       "\n",
       "    .dataframe thead th {\n",
       "        text-align: right;\n",
       "    }\n",
       "</style>\n",
       "<table border=\"1\" class=\"dataframe\">\n",
       "  <thead>\n",
       "    <tr style=\"text-align: right;\">\n",
       "      <th></th>\n",
       "      <th>shape</th>\n",
       "      <th>timestamp</th>\n",
       "      <th>timestamp_gallery</th>\n",
       "      <th>next_shape</th>\n",
       "      <th>game_file</th>\n",
       "      <th>shape_matrix</th>\n",
       "      <th>shape_matrix_str</th>\n",
       "    </tr>\n",
       "  </thead>\n",
       "  <tbody>\n",
       "    <tr>\n",
       "      <th>0</th>\n",
       "      <td>1023</td>\n",
       "      <td>16.038</td>\n",
       "      <td>NaN</td>\n",
       "      <td>1023</td>\n",
       "      <td>20120513_091629.txt</td>\n",
       "      <td>[[1, 1, 1, 1, 1, 1, 1, 1, 1, 1]]</td>\n",
       "      <td>1111111111</td>\n",
       "    </tr>\n",
       "    <tr>\n",
       "      <th>1</th>\n",
       "      <td>1023</td>\n",
       "      <td>17.168</td>\n",
       "      <td>29.65</td>\n",
       "      <td>2 1022</td>\n",
       "      <td>20120513_091629.txt</td>\n",
       "      <td>[[1, 1, 1, 1, 1, 1, 1, 1, 1, 1]]</td>\n",
       "      <td>1111111111</td>\n",
       "    </tr>\n",
       "    <tr>\n",
       "      <th>2</th>\n",
       "      <td>2 1022</td>\n",
       "      <td>76.165</td>\n",
       "      <td>NaN</td>\n",
       "      <td>4 1020 512</td>\n",
       "      <td>20120513_091629.txt</td>\n",
       "      <td>[[0, 0, 0, 0, 0, 0, 0, 0, 1, 0], [1, 1, 1, 1, ...</td>\n",
       "      <td>0000000010\\n1111111110</td>\n",
       "    </tr>\n",
       "    <tr>\n",
       "      <th>3</th>\n",
       "      <td>4 1020 512</td>\n",
       "      <td>79.600</td>\n",
       "      <td>NaN</td>\n",
       "      <td>4 1020 256</td>\n",
       "      <td>20120513_091629.txt</td>\n",
       "      <td>[[0, 0, 0, 0, 0, 0, 0, 1, 0, 0], [1, 1, 1, 1, ...</td>\n",
       "      <td>0000000100\\n1111111100\\n1000000000</td>\n",
       "    </tr>\n",
       "    <tr>\n",
       "      <th>4</th>\n",
       "      <td>4 1020 256</td>\n",
       "      <td>81.315</td>\n",
       "      <td>NaN</td>\n",
       "      <td>520 1016 512</td>\n",
       "      <td>20120513_091629.txt</td>\n",
       "      <td>[[0, 0, 0, 0, 0, 0, 0, 1, 0, 0], [1, 1, 1, 1, ...</td>\n",
       "      <td>0000000100\\n1111111100\\n0100000000</td>\n",
       "    </tr>\n",
       "  </tbody>\n",
       "</table>\n",
       "</div>"
      ],
      "text/plain": [
       "        shape  timestamp  timestamp_gallery    next_shape  \\\n",
       "0        1023     16.038                NaN          1023   \n",
       "1        1023     17.168              29.65        2 1022   \n",
       "2      2 1022     76.165                NaN    4 1020 512   \n",
       "3  4 1020 512     79.600                NaN    4 1020 256   \n",
       "4  4 1020 256     81.315                NaN  520 1016 512   \n",
       "\n",
       "             game_file                                       shape_matrix  \\\n",
       "0  20120513_091629.txt                   [[1, 1, 1, 1, 1, 1, 1, 1, 1, 1]]   \n",
       "1  20120513_091629.txt                   [[1, 1, 1, 1, 1, 1, 1, 1, 1, 1]]   \n",
       "2  20120513_091629.txt  [[0, 0, 0, 0, 0, 0, 0, 0, 1, 0], [1, 1, 1, 1, ...   \n",
       "3  20120513_091629.txt  [[0, 0, 0, 0, 0, 0, 0, 1, 0, 0], [1, 1, 1, 1, ...   \n",
       "4  20120513_091629.txt  [[0, 0, 0, 0, 0, 0, 0, 1, 0, 0], [1, 1, 1, 1, ...   \n",
       "\n",
       "                     shape_matrix_str  \n",
       "0                          1111111111  \n",
       "1                          1111111111  \n",
       "2              0000000010\\n1111111110  \n",
       "3  0000000100\\n1111111100\\n1000000000  \n",
       "4  0000000100\\n1111111100\\n0100000000  "
      ]
     },
     "execution_count": 1,
     "metadata": {},
     "output_type": "execute_result"
    }
   ],
   "source": [
    "import pandas as pd\n",
    "import networkx as nx\n",
    "\n",
    "df = pd.read_csv('data/all-games.tsv', sep='\\t')\n",
    "df['timestamp_gallery'] = pd.to_numeric(df['timestamp_gallery'], errors='coerce')\n",
    "df.head()\n"
   ]
  },
  {
   "cell_type": "markdown",
   "metadata": {},
   "source": [
    "## Add a column to the human data file that contains that shape code for the next move's shape. "
   ]
  },
  {
   "cell_type": "code",
   "execution_count": 57,
   "metadata": {},
   "outputs": [
    {
     "name": "stdout",
     "output_type": "stream",
     "text": [
      "['1023', '1023']\n",
      "['1023', '2 1022']\n",
      "['2 1022', '4 1020 512']\n",
      "['4 1020 512', '4 1020 256']\n",
      "['4 1020 256', '520 1016 512']\n",
      "['520 1016 512', '528 1016 512']\n",
      "['528 1016 512', '544 1016 512']\n",
      "['544 1016 512', '576 1016 512']\n",
      "['576 1016 512', '576 1008 528']\n",
      "['576 1008 528', '576 1008 544']\n",
      "['576 1008 544', '576 1008 288']\n"
     ]
    }
   ],
   "source": [
    "for idx, row in df.iterrows():\n",
    "    if idx > 10:\n",
    "        break\n",
    "    print(row[['shape','next_shape']].to_list())"
   ]
  },
  {
   "cell_type": "code",
   "execution_count": 58,
   "metadata": {},
   "outputs": [],
   "source": [
    "\n",
    "def decode_shape_binaries_str(encoded_str, bits=10):\n",
    "    \"\"\"\n",
    "    Decodes a single string of space-separated decimal codes into\n",
    "    a 2D list (shape) of 0/1 bits. Each code becomes one row in the shape.\n",
    "\n",
    "    :param encoded_str: A single string with space-separated decimal values\n",
    "                        (e.g., \"1016 64 64 64\").\n",
    "    :param bits: The fixed width of the binary representation (default=10).\n",
    "    :return: A list of lists, where each sub-list is a row of bits (0's and 1's).\n",
    "    \"\"\"\n",
    "    # Split the string by spaces to get each code as a separate token\n",
    "    codes = encoded_str.split()\n",
    "\n",
    "    shape = []\n",
    "    for code in codes:\n",
    "        # Convert the code (string) to an integer\n",
    "        number = int(code)\n",
    "\n",
    "        # Convert to binary, left-padded with zeros to the desired bit length\n",
    "        binary_str = format(number, 'b').rjust(bits, '0')\n",
    "\n",
    "        # Convert the binary string into a list of integer bits (0 or 1)\n",
    "        row_of_bits = [int(bit) for bit in binary_str]\n",
    "        shape.append(row_of_bits)\n",
    "\n",
    "    return shape"
   ]
  },
  {
   "cell_type": "code",
   "execution_count": 59,
   "metadata": {},
   "outputs": [
    {
     "name": "stdout",
     "output_type": "stream",
     "text": [
      "1111111111\n",
      "----------------------\n",
      "1111111111\n",
      "=======================\n",
      "1111111111\n",
      "----------------------\n",
      "0000000010\n",
      "1111111110\n",
      "=======================\n",
      "0000000010\n",
      "1111111110\n",
      "----------------------\n",
      "0000000100\n",
      "1111111100\n",
      "1000000000\n",
      "=======================\n",
      "0000000100\n",
      "1111111100\n",
      "1000000000\n",
      "----------------------\n",
      "0000000100\n",
      "1111111100\n",
      "0100000000\n",
      "=======================\n",
      "0000000100\n",
      "1111111100\n",
      "0100000000\n",
      "----------------------\n",
      "1000001000\n",
      "1111111000\n",
      "1000000000\n",
      "=======================\n"
     ]
    }
   ],
   "source": [
    "for idx, row in df.iterrows():\n",
    "    if idx > 4:\n",
    "        break\n",
    "    shape = decode_shape_binaries_str(row['shape'])\n",
    "    shape_matrix = \"\\n\".join([\"\".join(map(str, line)) for line in shape]) \n",
    "    print(shape_matrix)\n",
    "    print('----------------------')\n",
    "\n",
    "    next_shape = decode_shape_binaries_str(row['next_shape'])\n",
    "    next_shape_matrix = \"\\n\".join([\"\".join(map(str, line)) for line in next_shape]) \n",
    "    print(next_shape_matrix)\n",
    "    print('=======================')"
   ]
  },
  {
   "cell_type": "code",
   "execution_count": 60,
   "metadata": {},
   "outputs": [
    {
     "name": "stdout",
     "output_type": "stream",
     "text": [
      "False\n"
     ]
    }
   ],
   "source": [
    "\n",
    "    \n",
    "# Define a function to check continuity using DFS. Do not execute the search if the total number of 1s is not 10.\n",
    "# If the DFS count = 10, the function will return True, indicating that the move is valid.\n",
    "def is_contiguous(shape):\n",
    "    rows = len(shape)\n",
    "    cols = len(shape[0])\n",
    "    visited = set()\n",
    "\n",
    "    if sum(sum(row) for row in shape) == 10:  # Check if the total number of 1s is 10\n",
    "        # Determine the starting point, which is the first 1 in the shape\n",
    "        for r in range(rows):\n",
    "            for c in range(cols):\n",
    "                if shape[r][c] == 1:\n",
    "                    start = (r, c)\n",
    "                    break\n",
    "        def dfs(r, c):\n",
    "            if (r, c) in visited or not (0 <= r < rows and 0 <= c < cols) or shape[r][c] == 0:\n",
    "                return 0\n",
    "            visited.add((r, c))\n",
    "            count = 1 \n",
    "            for dr, dc in [(-1, 0), (1, 0), (0, -1), (0, 1)]: # Check all 4 directions\n",
    "                count += dfs(r + dr, c + dc)\n",
    "            return count\n",
    "        \n",
    "        return dfs(start[0], start[1]) == 10\n",
    "    return False\n",
    "# Example usage:\n",
    "shape = [\n",
    "    [1, 1, 1, 1, 0, 0, 0, 0, 0, 0],\n",
    "    [0, 0, 0, 0, 0, 0, 0, 0, 0, 0],\n",
    "]\n",
    "print(is_contiguous(shape))\n",
    "    "
   ]
  },
  {
   "cell_type": "code",
   "execution_count": 61,
   "metadata": {},
   "outputs": [
    {
     "name": "stdout",
     "output_type": "stream",
     "text": [
      "True\n"
     ]
    }
   ],
   "source": [
    "# Define a function to check that there is exactly one change between the previous shape and the new shape.\n",
    "\n",
    "def is_one_change(shape, next_shape):\n",
    "    rows_shape = len(shape)\n",
    "    rows_next_shape = len(next_shape)\n",
    "    cols = len(shape[0])\n",
    "    \n",
    "    # Find the row with the greatest overlap in the number of 1s\n",
    "    max_overlap = 0\n",
    "    best_offset = 0\n",
    "    for offset in range(-rows_shape + 1, rows_next_shape):\n",
    "        overlap = 0\n",
    "        for r in range(rows_shape):\n",
    "            if 0 <= r + offset < rows_next_shape:\n",
    "                overlap += sum(1 for c in range(cols) if shape[r][c] == 1 and next_shape[r + offset][c] == 1)\n",
    "        if overlap > max_overlap:\n",
    "            max_overlap = overlap\n",
    "            best_offset = offset\n",
    "    \n",
    "    # Add a row of 0s to the shape with fewer rows\n",
    "    if rows_shape < rows_next_shape:\n",
    "        if best_offset > 0:\n",
    "            shape = [[0] * cols] * best_offset + shape\n",
    "        else:\n",
    "            shape = shape + [[0] * cols] * (-best_offset)\n",
    "    elif rows_shape > rows_next_shape:\n",
    "        if best_offset > 0:\n",
    "            next_shape = [[0] * cols] * best_offset + next_shape\n",
    "        else:\n",
    "            next_shape = next_shape + [[0] * cols] * (-best_offset)\n",
    "\n",
    "    change_count = 0\n",
    "    for r in range(len(shape)):\n",
    "        for c in range(len(shape[0])):\n",
    "            if shape[r][c] != next_shape[r][c]:\n",
    "                change_count += 1\n",
    "    return change_count == 2  # Exactly one change (one removal and one addition)\n",
    "\n",
    "\n",
    "# Example usage:\n",
    "shape = [\n",
    "    [1, 1, 1, 1, 1, 1, 0, 0, 0, 0],\n",
    "]\n",
    "next_shape = [     \n",
    "    [0, 0, 1, 0, 0, 0, 0, 0, 0, 0],\n",
    "    [1, 1, 1, 1, 1, 0, 0, 0, 0, 0],\n",
    "    [0, 0, 0, 0, 0, 0, 0, 0, 0, 0],\n",
    "]\n",
    "print(is_one_change(shape, next_shape)) "
   ]
  },
  {
   "cell_type": "markdown",
   "metadata": {},
   "source": [
    "### Integration of the above functions to check if a move is valid\n"
   ]
  },
  {
   "cell_type": "code",
   "execution_count": 62,
   "metadata": {},
   "outputs": [
    {
     "name": "stdout",
     "output_type": "stream",
     "text": [
      "False\n"
     ]
    }
   ],
   "source": [
    "\n",
    "def is_valid_move(shape, next_shape): # Take in the shape and next_shape as 2D lists\n",
    "    if is_contiguous(next_shape) and is_one_change(shape, next_shape):\n",
    "        return True\n",
    "    return False\n",
    "\n",
    "# Example usage:\n",
    "shape = [\n",
    "    [0, 1, 1, 1, 1, 1, 1, 1, 1, 1],\n",
    "    [0, 0, 0, 0, 0, 0, 0, 0, 0, 0],\n",
    "]\n",
    "\n",
    "next_shape = [\n",
    "    [0, 0, 1, 1, 1, 1, 1, 1, 1, 1],\n",
    "    [0, 0, 1, 0, 0, 0, 0, 0, 0, 0],\n",
    "    [0, 0, 0, 0, 0, 0, 0, 0, 0, 0],\n",
    "]\n",
    "\n",
    "print(is_valid_move(shape, next_shape)) "
   ]
  },
  {
   "cell_type": "code",
   "execution_count": 68,
   "metadata": {},
   "outputs": [
    {
     "name": "stdout",
     "output_type": "stream",
     "text": [
      "False\n",
      "True\n",
      "False\n",
      "True\n",
      "False\n",
      "True\n",
      "True\n",
      "True\n",
      "True\n",
      "True\n",
      "True\n",
      "True\n",
      "True\n",
      "True\n",
      "True\n",
      "True\n",
      "True\n",
      "True\n",
      "False\n",
      "True\n",
      "True\n"
     ]
    }
   ],
   "source": [
    "# Test the function on the first 20 rows of the dataframe\n",
    "# Since this data is from humans playing the game, we expect all moves to be valid.\n",
    "\n",
    "\n",
    "for idx, row in df.iterrows():\n",
    "\n",
    "    if idx > 20:\n",
    "        break\n",
    "    shape = decode_shape_binaries_str(row['shape'])\n",
    "    next_shape = decode_shape_binaries_str(row['next_shape'])\n",
    "    print(is_valid_move(shape, next_shape))\n",
    "\n",
    "# TODO: Address issue with left-justification. Rows 2 and 4 are valid moves, but the function returns False.\n",
    "# The other False's occur for rows before a gallery save, which is expected because the move validation function is not designed to handle cases where shape = next_shape"
   ]
  },
  {
   "cell_type": "markdown",
   "metadata": {},
   "source": [
    "# Get response from LLM"
   ]
  },
  {
   "cell_type": "code",
   "execution_count": 3,
   "metadata": {},
   "outputs": [
    {
     "data": {
      "text/plain": [
       "{'user_prompt': 'instructions/version1.txt',\n",
       " 'prompt': '{\"current_shape\": \"1023\"}',\n",
       " 'current_shape': '1023',\n",
       " 'last_shape': None,\n",
       " 'response': '2 1022',\n",
       " 'timestamp': '2025-01-30T14:03:08.350019',\n",
       " 'valid_move': True}"
      ]
     },
     "execution_count": 3,
     "metadata": {},
     "output_type": "execute_result"
    }
   ],
   "source": [
    "import json\n",
    "import datetime\n",
    "\n",
    "\n",
    "\n",
    "# Set your OpenAI API key\n",
    "# import openai\n",
    "# openai.api_key = 'XXXXXX'\n",
    "\n",
    "# Define a function to get a response from the OpenAI API\n",
    "def get_openai_response_fake(user_prompt, prompt):\n",
    "    # use user_prompt as file_name to get the full game instructions\n",
    "    try:\n",
    "        prompt = {k:v for k,v in prompt.items() if v}  # Remove empty values from prompt (e.g., initial prompt)\n",
    "        input = {\n",
    "            'user_prompt': user_prompt,    # Full game instructions\n",
    "            'prompt': json.dumps(prompt),  # Current move instructions (dict dumped to string)\n",
    "        }\n",
    "\n",
    "        # Todo: actually call API\n",
    "        response = \"2 1022\"  # Hardcoded fake response\n",
    "        output = input.copy()\n",
    "        output['current_shape'] = prompt.get('current_shape')\n",
    "        output['last_shape'] = prompt.get('last_shape')\n",
    "        output['response'] = response\n",
    "        output['timestamp'] = datetime.datetime.now().isoformat()\n",
    "        output['valid_move'] = True # TODO Hardcoded, but need to write a function for checking\n",
    "        return output\n",
    "    except Exception as e:\n",
    "        return f\"An error occurred: {e}\"\n",
    "    \n",
    "# Valid moves example\n",
    "# 1023 -> 2 1022 -> 4 1020 512\n",
    "\n",
    "# Single example\n",
    "user_prompt = \"instructions/version1.txt\"\n",
    "prompt={\n",
    "    \"current_shape\": \"1023\", \n",
    "    \"last_shape\": \"\"\n",
    "}\n",
    "get_openai_response_fake(user_prompt, prompt)"
   ]
  },
  {
   "cell_type": "code",
   "execution_count": 4,
   "metadata": {},
   "outputs": [
    {
     "name": "stdout",
     "output_type": "stream",
     "text": [
      "{'user_prompt': 'instructions/version1.txt', 'prompt': '{\"current_shape\": \"1023\"}', 'current_shape': '1023', 'last_shape': None, 'response': '2 1022', 'timestamp': '2025-01-30T14:03:08.384481', 'valid_move': True}\n",
      "{'user_prompt': 'instructions/version1.txt', 'prompt': '{\"current_shape\": \"2 1022\"}', 'current_shape': '2 1022', 'last_shape': None, 'response': '2 1022', 'timestamp': '2025-01-30T14:03:08.384932', 'valid_move': True}\n",
      "{'user_prompt': 'instructions/version1.txt', 'prompt': '{\"current_shape\": \"2 1022\"}', 'current_shape': '2 1022', 'last_shape': None, 'response': '2 1022', 'timestamp': '2025-01-30T14:03:08.385012', 'valid_move': True}\n",
      "{'user_prompt': 'instructions/version1.txt', 'prompt': '{\"current_shape\": \"2 1022\"}', 'current_shape': '2 1022', 'last_shape': None, 'response': '2 1022', 'timestamp': '2025-01-30T14:03:08.385114', 'valid_move': True}\n",
      "{'user_prompt': 'instructions/version1.txt', 'prompt': '{\"current_shape\": \"2 1022\"}', 'current_shape': '2 1022', 'last_shape': None, 'response': '2 1022', 'timestamp': '2025-01-30T14:03:08.385161', 'valid_move': True}\n",
      "{'user_prompt': 'instructions/version1.txt', 'prompt': '{\"current_shape\": \"2 1022\"}', 'current_shape': '2 1022', 'last_shape': None, 'response': '2 1022', 'timestamp': '2025-01-30T14:03:08.385215', 'valid_move': True}\n",
      "{'user_prompt': 'instructions/version1.txt', 'prompt': '{\"current_shape\": \"2 1022\"}', 'current_shape': '2 1022', 'last_shape': None, 'response': '2 1022', 'timestamp': '2025-01-30T14:03:08.385291', 'valid_move': True}\n",
      "{'user_prompt': 'instructions/version1.txt', 'prompt': '{\"current_shape\": \"2 1022\"}', 'current_shape': '2 1022', 'last_shape': None, 'response': '2 1022', 'timestamp': '2025-01-30T14:03:08.385317', 'valid_move': True}\n",
      "{'user_prompt': 'instructions/version1.txt', 'prompt': '{\"current_shape\": \"2 1022\"}', 'current_shape': '2 1022', 'last_shape': None, 'response': '2 1022', 'timestamp': '2025-01-30T14:03:08.385357', 'valid_move': True}\n",
      "{'user_prompt': 'instructions/version1.txt', 'prompt': '{\"current_shape\": \"2 1022\"}', 'current_shape': '2 1022', 'last_shape': None, 'response': '2 1022', 'timestamp': '2025-01-30T14:03:08.385443', 'valid_move': True}\n"
     ]
    }
   ],
   "source": [
    "# Interaction loop for game\n",
    "\n",
    "THRESHOLD_TOTAL_MOVES = 10\n",
    "THRESHOLD_TOTAL_RETRIES = 10\n",
    "\n",
    "user_prompt = \"instructions/version1.txt\"\n",
    "prompt={\n",
    "    \"current_shape\": \"1023\", \n",
    "    \"last_shape\": \"\"\n",
    "}\n",
    "\n",
    "move_count = 0\n",
    "retry_count = 0\n",
    "\n",
    "while move_count < THRESHOLD_TOTAL_MOVES and retry_count < THRESHOLD_TOTAL_RETRIES:\n",
    "    output = get_openai_response_fake(user_prompt, prompt)\n",
    "    print(output)\n",
    "    if output['valid_move']:\n",
    "        move_count += 1\n",
    "        retry_count = 0\n",
    "        prompt['current_shape'] = output['response']\n",
    "    else:\n",
    "        retry_count += 1\n",
    "        print(f\"Invalid move, retrying... {retry_count} / {THRESHOLD_TOTAL_RETRIES}\")\n",
    "    \n",
    "    # TODO: save response dictionary to file (append as you go)\n",
    "    with open('data/responses.json', 'a') as f:\n",
    "        f.write(json.dumps(output) + '\\n')\n"
   ]
  }
 ],
 "metadata": {
  "kernelspec": {
   "display_name": "benchmarking-creativity-nbm55LEq-py3.12",
   "language": "python",
   "name": "python3"
  },
  "language_info": {
   "codemirror_mode": {
    "name": "ipython",
    "version": 3
   },
   "file_extension": ".py",
   "mimetype": "text/x-python",
   "name": "python",
   "nbconvert_exporter": "python",
   "pygments_lexer": "ipython3",
   "version": "3.12.4"
  }
 },
 "nbformat": 4,
 "nbformat_minor": 2
}
