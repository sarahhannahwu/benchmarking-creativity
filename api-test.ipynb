{
 "cells": [
  {
   "cell_type": "markdown",
   "metadata": {},
   "source": [
    "# LLM API Testing"
   ]
  },
  {
   "cell_type": "markdown",
   "metadata": {},
   "source": [
    "# Get response from LLM"
   ]
  },
  {
   "cell_type": "code",
   "execution_count": 1,
   "metadata": {},
   "outputs": [],
   "source": [
    "import json\n",
    "import datetime\n",
    "\n",
    "# Set your OpenAI API key\n",
    "import os\n",
    "import openai\n",
    "\n",
    "api_key = os.environ.get(\"OPENAI_KEY\")\n",
    "\n"
   ]
  },
  {
   "cell_type": "code",
   "execution_count": 3,
   "metadata": {},
   "outputs": [
    {
     "data": {
      "text/plain": [
       "{'user_prompt': 'instructions/version1.txt',\n",
       " 'prompt': '{\"current_shape\": \"1023\"}',\n",
       " 'current_shape': '1023',\n",
       " 'last_shape': None,\n",
       " 'response': '2 1022',\n",
       " 'timestamp': '2025-01-30T14:03:08.350019',\n",
       " 'valid_move': True}"
      ]
     },
     "execution_count": 3,
     "metadata": {},
     "output_type": "execute_result"
    }
   ],
   "source": [
    "user_prompt = \"instructions_v4.txt\"\n",
    "\n",
    "# Define a function to get a response from the OpenAI API\n",
    "def get_openai_response_fake(user_prompt, prompt):\n",
    "    # use user_prompt as file_name to get the full game instructions\n",
    "    try:\n",
    "        prompt = {k:v for k,v in prompt.items() if v}  # Remove empty values from prompt (e.g., initial prompt)\n",
    "        input = {\n",
    "            'user_prompt': user_prompt,    # Full game instructions\n",
    "            'prompt': json.dumps(prompt),  # Current move instructions (dict dumped to string)\n",
    "        }\n",
    "\n",
    "        # Todo: actually call API\n",
    "        response = \"2 1022\"  # Hardcoded fake response\n",
    "        output = input.copy()\n",
    "        output['current_shape'] = prompt.get('current_shape')\n",
    "        output['last_shape'] = prompt.get('last_shape')\n",
    "        output['response'] = response\n",
    "        output['timestamp'] = datetime.datetime.now().isoformat()\n",
    "        output['valid_move'] = True # TODO Hardcoded, but need to write a function for checking\n",
    "        return output\n",
    "    except Exception as e:\n",
    "        return f\"An error occurred: {e}\"\n",
    "    \n",
    "# Valid moves example\n",
    "# 1023 -> 2 1022 -> 4 1020 512\n",
    "\n",
    "# Single example\n",
    "user_prompt = \"instructions/version1.txt\"\n",
    "prompt={\n",
    "    \"current_shape\": \"1023\", \n",
    "    \"last_shape\": \"\"\n",
    "}\n",
    "get_openai_response_fake(user_prompt, prompt)"
   ]
  },
  {
   "cell_type": "code",
   "execution_count": 4,
   "metadata": {},
   "outputs": [
    {
     "name": "stdout",
     "output_type": "stream",
     "text": [
      "{'user_prompt': 'instructions/version1.txt', 'prompt': '{\"current_shape\": \"1023\"}', 'current_shape': '1023', 'last_shape': None, 'response': '2 1022', 'timestamp': '2025-01-30T14:03:08.384481', 'valid_move': True}\n",
      "{'user_prompt': 'instructions/version1.txt', 'prompt': '{\"current_shape\": \"2 1022\"}', 'current_shape': '2 1022', 'last_shape': None, 'response': '2 1022', 'timestamp': '2025-01-30T14:03:08.384932', 'valid_move': True}\n",
      "{'user_prompt': 'instructions/version1.txt', 'prompt': '{\"current_shape\": \"2 1022\"}', 'current_shape': '2 1022', 'last_shape': None, 'response': '2 1022', 'timestamp': '2025-01-30T14:03:08.385012', 'valid_move': True}\n",
      "{'user_prompt': 'instructions/version1.txt', 'prompt': '{\"current_shape\": \"2 1022\"}', 'current_shape': '2 1022', 'last_shape': None, 'response': '2 1022', 'timestamp': '2025-01-30T14:03:08.385114', 'valid_move': True}\n",
      "{'user_prompt': 'instructions/version1.txt', 'prompt': '{\"current_shape\": \"2 1022\"}', 'current_shape': '2 1022', 'last_shape': None, 'response': '2 1022', 'timestamp': '2025-01-30T14:03:08.385161', 'valid_move': True}\n",
      "{'user_prompt': 'instructions/version1.txt', 'prompt': '{\"current_shape\": \"2 1022\"}', 'current_shape': '2 1022', 'last_shape': None, 'response': '2 1022', 'timestamp': '2025-01-30T14:03:08.385215', 'valid_move': True}\n",
      "{'user_prompt': 'instructions/version1.txt', 'prompt': '{\"current_shape\": \"2 1022\"}', 'current_shape': '2 1022', 'last_shape': None, 'response': '2 1022', 'timestamp': '2025-01-30T14:03:08.385291', 'valid_move': True}\n",
      "{'user_prompt': 'instructions/version1.txt', 'prompt': '{\"current_shape\": \"2 1022\"}', 'current_shape': '2 1022', 'last_shape': None, 'response': '2 1022', 'timestamp': '2025-01-30T14:03:08.385317', 'valid_move': True}\n",
      "{'user_prompt': 'instructions/version1.txt', 'prompt': '{\"current_shape\": \"2 1022\"}', 'current_shape': '2 1022', 'last_shape': None, 'response': '2 1022', 'timestamp': '2025-01-30T14:03:08.385357', 'valid_move': True}\n",
      "{'user_prompt': 'instructions/version1.txt', 'prompt': '{\"current_shape\": \"2 1022\"}', 'current_shape': '2 1022', 'last_shape': None, 'response': '2 1022', 'timestamp': '2025-01-30T14:03:08.385443', 'valid_move': True}\n"
     ]
    }
   ],
   "source": [
    "# Interaction loop for game\n",
    "\n",
    "THRESHOLD_TOTAL_MOVES = 10\n",
    "THRESHOLD_TOTAL_RETRIES = 10\n",
    "\n",
    "user_prompt = \"instructions/version1.txt\"\n",
    "prompt={\n",
    "    \"current_shape\": \"1023\", \n",
    "    \"last_shape\": \"\"\n",
    "}\n",
    "\n",
    "move_count = 0\n",
    "retry_count = 0\n",
    "\n",
    "while move_count < THRESHOLD_TOTAL_MOVES and retry_count < THRESHOLD_TOTAL_RETRIES:\n",
    "    output = get_openai_response_fake(user_prompt, prompt)\n",
    "    print(output)\n",
    "    if output['valid_move']:\n",
    "        move_count += 1\n",
    "        retry_count = 0\n",
    "        prompt['current_shape'] = output['response']\n",
    "    else:\n",
    "        retry_count += 1\n",
    "        print(f\"Invalid move, retrying... {retry_count} / {THRESHOLD_TOTAL_RETRIES}\")\n",
    "    \n",
    "    # TODO: save response dictionary to file (append as you go)\n",
    "    with open('data/responses.json', 'a') as f:\n",
    "        f.write(json.dumps(output) + '\\n')\n"
   ]
  },
  {
   "cell_type": "code",
   "execution_count": 2,
   "metadata": {},
   "outputs": [
    {
     "name": "stdout",
     "output_type": "stream",
     "text": [
      "None\n"
     ]
    }
   ],
   "source": [
    "import json\n",
    "import datetime\n",
    "import os\n",
    "import openai\n",
    "\n",
    "from functions.tools import is_valid_move\n",
    "\n",
    "# Set your OpenAI API key\n",
    "api_key = os.environ.get('OPENAI_KEY')\n",
    "print(api_key)"
   ]
  },
  {
   "cell_type": "code",
   "execution_count": null,
   "metadata": {},
   "outputs": [
    {
     "name": "stdout",
     "output_type": "stream",
     "text": [
      "An error occurred: The api_key client option must be set either by passing api_key to the client or by setting the OPENAI_API_KEY environment variable\n"
     ]
    }
   ],
   "source": [
    "\n",
    "\n",
    "# Define a function to get a response from the OpenAI API\n",
    "def get_openai_response(user_prompt, prompt):\n",
    "    try:\n",
    "        # Remove empty values from prompt (e.g., initial prompt)\n",
    "        prompt = {k: v for k, v in prompt.items() if v}\n",
    "        input_data = {\n",
    "            'user_prompt': user_prompt,    # Full game instructions\n",
    "            'prompt': json.dumps(prompt),  # Current move instructions (dict dumped to string)\n",
    "        }\n",
    "\n",
    "        # Make the API call\n",
    "        response = openai.chat.completions.create(\n",
    "            model=\"gpt-o3-mini\",  # Specify the engine you want to use\n",
    "            prompt=input_data['prompt'],\n",
    "            max_tokens=100  # Adjust the number of tokens as needed\n",
    "        )\n",
    "\n",
    "        # Process the API response\n",
    "        output = input_data.copy()\n",
    "        output['current_shape'] = prompt.get('current_shape')\n",
    "        output['last_shape'] = prompt.get('last_shape')\n",
    "        output['response'] = response.choices[0].text.strip()\n",
    "        output['timestamp'] = datetime.datetime.now().isoformat()\n",
    "        output['valid_move'] = is_valid_move(output['response'])  # Check if the move is valid\n",
    "        return output\n",
    "    except Exception as e:\n",
    "        return f\"An error occurred: {e}\"\n",
    "\n",
    "# Example usage\n",
    "user_prompt = \"instructions_v4.txt\"\n",
    "prompt = {\n",
    "    \"current_shape\": \"shape1\",\n",
    "    \"last_shape\": \"shape0\",\n",
    "    \"move\": \"move1\"\n",
    "}\n",
    "\n",
    "response = get_openai_response(user_prompt, prompt)\n",
    "print(response)"
   ]
  }
 ],
 "metadata": {
  "kernelspec": {
   "display_name": "benchmarking-creativity-nbm55LEq-py3.12",
   "language": "python",
   "name": "python3"
  },
  "language_info": {
   "codemirror_mode": {
    "name": "ipython",
    "version": 3
   },
   "file_extension": ".py",
   "mimetype": "text/x-python",
   "name": "python",
   "nbconvert_exporter": "python",
   "pygments_lexer": "ipython3",
   "version": "3.12.4"
  }
 },
 "nbformat": 4,
 "nbformat_minor": 2
}
