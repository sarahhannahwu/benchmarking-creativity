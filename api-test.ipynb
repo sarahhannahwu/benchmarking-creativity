{
 "cells": [
  {
   "cell_type": "markdown",
   "metadata": {},
   "source": [
    "# LLM API Testing"
   ]
  },
  {
   "cell_type": "markdown",
   "metadata": {},
   "source": [
    "## Validate game moves\n",
    "### [Demo of the game:](https://www.youtube.com/watch?v=UIB1epCwv4k)\n",
    "### Four checks to validate the move:\n",
    "#### 1. Check that the square is valid to move (it's not surrounded by other squares)\n",
    "### For the new shape:\n",
    "#### 2. Count to check that there are exactly 10 1's.\n",
    "#### 3. Check to make sure the change results in a contiguous shape\n",
    "#### 4. Check that there was only one change between previous and new shape."
   ]
  },
  {
   "cell_type": "code",
   "execution_count": 25,
   "metadata": {},
   "outputs": [
    {
     "data": {
      "text/html": [
       "<div>\n",
       "<style scoped>\n",
       "    .dataframe tbody tr th:only-of-type {\n",
       "        vertical-align: middle;\n",
       "    }\n",
       "\n",
       "    .dataframe tbody tr th {\n",
       "        vertical-align: top;\n",
       "    }\n",
       "\n",
       "    .dataframe thead th {\n",
       "        text-align: right;\n",
       "    }\n",
       "</style>\n",
       "<table border=\"1\" class=\"dataframe\">\n",
       "  <thead>\n",
       "    <tr style=\"text-align: right;\">\n",
       "      <th></th>\n",
       "      <th>shape</th>\n",
       "      <th>timestamp</th>\n",
       "      <th>timestamp_gallery</th>\n",
       "      <th>next_shape</th>\n",
       "      <th>game_file</th>\n",
       "      <th>shape_matrix</th>\n",
       "      <th>shape_matrix_str</th>\n",
       "    </tr>\n",
       "  </thead>\n",
       "  <tbody>\n",
       "    <tr>\n",
       "      <th>0</th>\n",
       "      <td>1023</td>\n",
       "      <td>16.038</td>\n",
       "      <td></td>\n",
       "      <td>1023</td>\n",
       "      <td>20120513_091629.txt</td>\n",
       "      <td>[[1, 1, 1, 1, 1, 1, 1, 1, 1, 1]]</td>\n",
       "      <td>1111111111</td>\n",
       "    </tr>\n",
       "    <tr>\n",
       "      <th>1</th>\n",
       "      <td>1023</td>\n",
       "      <td>17.168</td>\n",
       "      <td>29.650000000000002</td>\n",
       "      <td>2 1022</td>\n",
       "      <td>20120513_091629.txt</td>\n",
       "      <td>[[1, 1, 1, 1, 1, 1, 1, 1, 1, 1]]</td>\n",
       "      <td>1111111111</td>\n",
       "    </tr>\n",
       "    <tr>\n",
       "      <th>2</th>\n",
       "      <td>2 1022</td>\n",
       "      <td>76.165</td>\n",
       "      <td></td>\n",
       "      <td>4 1020 512</td>\n",
       "      <td>20120513_091629.txt</td>\n",
       "      <td>[[0, 0, 0, 0, 0, 0, 0, 0, 1, 0], [1, 1, 1, 1, ...</td>\n",
       "      <td>0000000010\\n1111111110</td>\n",
       "    </tr>\n",
       "    <tr>\n",
       "      <th>3</th>\n",
       "      <td>4 1020 512</td>\n",
       "      <td>79.600</td>\n",
       "      <td></td>\n",
       "      <td>4 1020 256</td>\n",
       "      <td>20120513_091629.txt</td>\n",
       "      <td>[[0, 0, 0, 0, 0, 0, 0, 1, 0, 0], [1, 1, 1, 1, ...</td>\n",
       "      <td>0000000100\\n1111111100\\n1000000000</td>\n",
       "    </tr>\n",
       "    <tr>\n",
       "      <th>4</th>\n",
       "      <td>4 1020 256</td>\n",
       "      <td>81.315</td>\n",
       "      <td></td>\n",
       "      <td>520 1016 512</td>\n",
       "      <td>20120513_091629.txt</td>\n",
       "      <td>[[0, 0, 0, 0, 0, 0, 0, 1, 0, 0], [1, 1, 1, 1, ...</td>\n",
       "      <td>0000000100\\n1111111100\\n0100000000</td>\n",
       "    </tr>\n",
       "  </tbody>\n",
       "</table>\n",
       "</div>"
      ],
      "text/plain": [
       "        shape  timestamp   timestamp_gallery    next_shape  \\\n",
       "0        1023     16.038                              1023   \n",
       "1        1023     17.168  29.650000000000002        2 1022   \n",
       "2      2 1022     76.165                        4 1020 512   \n",
       "3  4 1020 512     79.600                        4 1020 256   \n",
       "4  4 1020 256     81.315                      520 1016 512   \n",
       "\n",
       "             game_file                                       shape_matrix  \\\n",
       "0  20120513_091629.txt                   [[1, 1, 1, 1, 1, 1, 1, 1, 1, 1]]   \n",
       "1  20120513_091629.txt                   [[1, 1, 1, 1, 1, 1, 1, 1, 1, 1]]   \n",
       "2  20120513_091629.txt  [[0, 0, 0, 0, 0, 0, 0, 0, 1, 0], [1, 1, 1, 1, ...   \n",
       "3  20120513_091629.txt  [[0, 0, 0, 0, 0, 0, 0, 1, 0, 0], [1, 1, 1, 1, ...   \n",
       "4  20120513_091629.txt  [[0, 0, 0, 0, 0, 0, 0, 1, 0, 0], [1, 1, 1, 1, ...   \n",
       "\n",
       "                     shape_matrix_str  \n",
       "0                          1111111111  \n",
       "1                          1111111111  \n",
       "2              0000000010\\n1111111110  \n",
       "3  0000000100\\n1111111100\\n1000000000  \n",
       "4  0000000100\\n1111111100\\n0100000000  "
      ]
     },
     "execution_count": 25,
     "metadata": {},
     "output_type": "execute_result"
    }
   ],
   "source": [
    "import pandas as pd\n",
    "\n",
    "df = pd.read_csv('data/all-games.tsv', sep='\\t')\n",
    "df.head()\n"
   ]
  },
  {
   "cell_type": "markdown",
   "metadata": {},
   "source": [
    "## Add a column to the human data file that contains that shape code for the next move's shape. "
   ]
  },
  {
   "cell_type": "code",
   "execution_count": 32,
   "metadata": {},
   "outputs": [
    {
     "name": "stdout",
     "output_type": "stream",
     "text": [
      "['1023', '1023']\n",
      "['1023', '2 1022']\n",
      "['2 1022', '4 1020 512']\n",
      "['4 1020 512', '4 1020 256']\n",
      "['4 1020 256', '520 1016 512']\n",
      "['520 1016 512', '528 1016 512']\n",
      "['528 1016 512', '544 1016 512']\n",
      "['544 1016 512', '576 1016 512']\n",
      "['576 1016 512', '576 1008 528']\n",
      "['576 1008 528', '576 1008 544']\n",
      "['576 1008 544', '576 1008 288']\n"
     ]
    }
   ],
   "source": [
    "for idx, row in df.iterrows():\n",
    "    if idx > 10:\n",
    "        break\n",
    "    print(row[['shape','next_shape']].to_list())"
   ]
  },
  {
   "cell_type": "code",
   "execution_count": 33,
   "metadata": {},
   "outputs": [],
   "source": [
    "\n",
    "def decode_shape_binaries_str(encoded_str, bits=10):\n",
    "    \"\"\"\n",
    "    Decodes a single string of space-separated decimal codes into\n",
    "    a 2D list (shape) of 0/1 bits. Each code becomes one row in the shape.\n",
    "\n",
    "    :param encoded_str: A single string with space-separated decimal values\n",
    "                        (e.g., \"1016 64 64 64\").\n",
    "    :param bits: The fixed width of the binary representation (default=10).\n",
    "    :return: A list of lists, where each sub-list is a row of bits (0's and 1's).\n",
    "    \"\"\"\n",
    "    # Split the string by spaces to get each code as a separate token\n",
    "    codes = encoded_str.split()\n",
    "\n",
    "    shape = []\n",
    "    for code in codes:\n",
    "        # Convert the code (string) to an integer\n",
    "        number = int(code)\n",
    "\n",
    "        # Convert to binary, left-padded with zeros to the desired bit length\n",
    "        binary_str = format(number, 'b').rjust(bits, '0')\n",
    "\n",
    "        # Convert the binary string into a list of integer bits (0 or 1)\n",
    "        row_of_bits = [int(bit) for bit in binary_str]\n",
    "        shape.append(row_of_bits)\n",
    "\n",
    "    return shape"
   ]
  },
  {
   "cell_type": "code",
   "execution_count": 40,
   "metadata": {},
   "outputs": [
    {
     "name": "stdout",
     "output_type": "stream",
     "text": [
      "1111111111\n",
      "----------------------\n",
      "1111111111\n",
      "=======================\n",
      "1111111111\n",
      "----------------------\n",
      "0000000010\n",
      "1111111110\n",
      "=======================\n",
      "0000000010\n",
      "1111111110\n",
      "----------------------\n",
      "0000000100\n",
      "1111111100\n",
      "1000000000\n",
      "=======================\n",
      "0000000100\n",
      "1111111100\n",
      "1000000000\n",
      "----------------------\n",
      "0000000100\n",
      "1111111100\n",
      "0100000000\n",
      "=======================\n"
     ]
    }
   ],
   "source": [
    "for idx, row in df.iterrows():\n",
    "    if idx > 3:\n",
    "        break\n",
    "    shape = decode_shape_binaries_str(row['shape'])\n",
    "    shape_matrix = \"\\n\".join([\"\".join(map(str, line)) for line in shape]) \n",
    "    print(shape_matrix)\n",
    "    print('----------------------')\n",
    "\n",
    "    next_shape = decode_shape_binaries_str(row['next_shape'])\n",
    "    next_shape_matrix = \"\\n\".join([\"\".join(map(str, line)) for line in next_shape]) \n",
    "    print(next_shape_matrix)\n",
    "    print('=======================')"
   ]
  },
  {
   "cell_type": "code",
   "execution_count": 19,
   "metadata": {},
   "outputs": [
    {
     "name": "stdout",
     "output_type": "stream",
     "text": [
      "True\n"
     ]
    }
   ],
   "source": [
    "# Define a function to check that a square is valid to move.\n",
    "# The function will take in the 10x10 grid and the coordinates of the square to be moved.\n",
    "def is_valid_square(grid, coordinates):\n",
    "    adjacent_squares = [\n",
    "        coordinates[0] - 1, coordinates[1],\n",
    "        coordinates[0] + 1, coordinates[1],\n",
    "        coordinates[0], coordinates[1] - 1,\n",
    "        coordinates[0], coordinates[1] + 1\n",
    "    ]\n",
    "\n",
    "    if grid[coordinates[0]][coordinates[1]] == 1: # First check to make sure the coordinates correspond to a 1\n",
    "        for pos in adjacent_squares: # If so, then check if any of the adjacent squares are 0\n",
    "            if grid[adjacent_squares[0]][adjacent_squares[1]] == 0:\n",
    "                return True\n",
    "    return False\n",
    "\n",
    "# Example usage\n",
    "grid = [\n",
    "    [1, 1, 1, 1, 1, 0, 0, 0, 0, 0],\n",
    "    [1, 0, 0, 1, 1, 1, 1, 0, 0, 0],\n",
    "    [0, 0, 0, 0, 0, 0, 0, 0, 0, 0],\n",
    "    [0, 0, 0, 0, 0, 0, 0, 0, 0, 0],\n",
    "    [0, 0, 0, 0, 0, 0, 0, 0, 0, 0],\n",
    "    [0, 0, 0, 0, 0, 0, 0, 0, 0, 0],\n",
    "    [0, 0, 0, 0, 0, 0, 0, 0, 0, 0],\n",
    "    [0, 0, 0, 0, 0, 0, 0, 0, 0, 0],\n",
    "    [0, 0, 0, 0, 0, 0, 0, 0, 0, 0],\n",
    "    [0, 0, 0, 0, 0, 0, 0, 0, 0, 0]\n",
    "]\n",
    "coordinates = (1,5)\n",
    "print(is_valid_square(grid, coordinates)) "
   ]
  },
  {
   "cell_type": "code",
   "execution_count": 24,
   "metadata": {},
   "outputs": [
    {
     "name": "stdout",
     "output_type": "stream",
     "text": [
      "True\n"
     ]
    }
   ],
   "source": [
    "\n",
    "    \n",
    "# Define a function to check continuity using DFS. Do not execute the search if the total number of 1s is not 10.\n",
    "# It takes in the 10x10 grid and the coordinates of a starting point on the shape.\n",
    "# If the count = 10, the function will return True, indicating that the move is valid.\n",
    "def is_contiguous(grid, start):\n",
    "    rows = len(grid)\n",
    "    cols = len(grid[0])\n",
    "    visited = set()\n",
    "\n",
    "    if sum(sum(row) for row in grid) == 10:  \n",
    "        def dfs(r, c):\n",
    "            if (r, c) in visited or not (0 <= r < rows and 0 <= c < cols) or grid[r][c] == 0:\n",
    "                return 0\n",
    "            visited.add((r, c))\n",
    "            count = 1 \n",
    "            for dr, dc in [(-1, 0), (1, 0), (0, -1), (0, 1)]: # Check all 4 directions\n",
    "                count += dfs(r + dr, c + dc)\n",
    "            return count\n",
    "        \n",
    "        return dfs(start[0], start[1]) == 10\n",
    "    return False\n",
    "# Example usage:\n",
    "grid = [\n",
    "    [0, 0, 0, 0, 0, 0, 0, 0, 0, 0],\n",
    "    [0, 0, 0, 1, 1, 1, 1, 1, 1, 1],\n",
    "    [0, 0, 0, 0, 0, 1, 0, 0, 0, 0],\n",
    "    [0, 0, 0, 0, 0, 1, 0, 0, 0, 0],\n",
    "    [0, 0, 0, 0, 0, 1, 0, 0, 0, 0],\n",
    "    [0, 0, 0, 0, 0, 0, 0, 0, 0, 0],\n",
    "    [0, 0, 1, 0, 0, 0, 0, 0, 0, 0],\n",
    "    [0, 0, 0, 0, 0, 0, 0, 0, 0, 0],\n",
    "    [0, 0, 0, 0, 0, 0, 0, 0, 0, 0],\n",
    "    [0, 0, 0, 0, 0, 0, 0, 0, 0, 0]\n",
    "]\n",
    "start = (1, 3)\n",
    "print(is_contiguous(grid, start))  \n",
    "    \n",
    "# separate rule that sums the number of 1s in the grid\n"
   ]
  },
  {
   "cell_type": "code",
   "execution_count": 21,
   "metadata": {},
   "outputs": [
    {
     "name": "stdout",
     "output_type": "stream",
     "text": [
      "False\n"
     ]
    }
   ],
   "source": [
    "# Define a function to check that there is exactly one change between the previous shape and the new shape.\n",
    "\n",
    "def is_one_change(grid1, grid2):\n",
    "    count = 0\n",
    "    for i in range(len(grid1)):\n",
    "        for j in range(len(grid1[0])):\n",
    "            if grid1[i][j] != grid2[i][j]:\n",
    "                count += 1\n",
    "    return count == 1\n",
    "\n",
    "# Example usage:\n",
    "grid1 = [\n",
    "    [0, 0, 0, 0, 0, 0, 0, 0, 0, 0],\n",
    "    [0, 0, 0, 1, 1, 1, 1, 1, 1, 1],\n",
    "    [0, 0, 0, 0, 0, 1, 0, 0, 0, 0],\n",
    "    [0, 0, 0, 0, 0, 1, 0, 0, 0, 0],\n",
    "    [0, 0, 0, 0, 0, 1, 0, 0, 0, 0],\n",
    "    [0, 0, 0, 0, 0, 0, 0, 0, 0, 0],\n",
    "    [0, 0, 0, 0, 0, 0, 0, 0, 0, 0],\n",
    "    [0, 0, 0, 0, 0, 0, 0, 0, 0, 0],\n",
    "    [0, 0, 0, 0, 0, 0, 0, 0, 0, 0],\n",
    "    [0, 0, 0, 0, 0, 0, 0, 0, 0, 0]\n",
    "]\n",
    "grid2 = [     \n",
    "    [0, 0, 0, 0, 0, 0, 0, 0, 0, 0],\n",
    "    [0, 0, 0, 1, 1, 1, 1, 1, 1, 0],\n",
    "    [0, 0, 0, 0, 0, 1, 0, 0, 1, 0],\n",
    "    [0, 0, 0, 0, 1, 1, 0, 0, 0, 0],\n",
    "    [0, 0, 0, 0, 0, 0, 0, 0, 0, 0],\n",
    "    [0, 0, 0, 0, 0, 0, 0, 0, 0, 0],\n",
    "    [0, 0, 0, 0, 0, 0, 0, 0, 0, 0],\n",
    "    [0, 0, 0, 0, 0, 0, 0, 0, 0, 0],\n",
    "    [0, 0, 0, 0, 0, 0, 0, 0, 0, 0],\n",
    "    [0, 0, 0, 0, 0, 0, 0, 0, 0, 0]\n",
    "]\n",
    "print(is_one_change(grid1, grid2)) "
   ]
  },
  {
   "cell_type": "markdown",
   "metadata": {},
   "source": [
    "# Integration of the above functions to check if a move is valid.\n"
   ]
  },
  {
   "cell_type": "code",
   "execution_count": null,
   "metadata": {},
   "outputs": [],
   "source": [
    "\n",
    "def is_valid_move(grid1, grid2, start):\n",
    "    if is_contiguous(grid2, start) and is_one_change(grid1, grid2):\n",
    "        return is_valid_square(grid1, start)\n",
    "    return False"
   ]
  },
  {
   "cell_type": "markdown",
   "metadata": {},
   "source": [
    "# Get response from LLM"
   ]
  },
  {
   "cell_type": "code",
   "execution_count": 3,
   "metadata": {},
   "outputs": [
    {
     "data": {
      "text/plain": [
       "{'user_prompt': 'instructions/version1.txt',\n",
       " 'prompt': '{\"current_shape\": \"1023\"}',\n",
       " 'current_shape': '1023',\n",
       " 'last_shape': None,\n",
       " 'response': '2 1022',\n",
       " 'timestamp': '2025-01-30T14:03:08.350019',\n",
       " 'valid_move': True}"
      ]
     },
     "execution_count": 3,
     "metadata": {},
     "output_type": "execute_result"
    }
   ],
   "source": [
    "import json\n",
    "import datetime\n",
    "\n",
    "\n",
    "\n",
    "# Set your OpenAI API key\n",
    "# import openai\n",
    "# openai.api_key = 'XXXXXX'\n",
    "\n",
    "# Define a function to get a response from the OpenAI API\n",
    "def get_openai_response_fake(user_prompt, prompt):\n",
    "    # use user_prompt as file_name to get the full game instructions\n",
    "    try:\n",
    "        prompt = {k:v for k,v in prompt.items() if v}  # Remove empty values from prompt (e.g., initial prompt)\n",
    "        input = {\n",
    "            'user_prompt': user_prompt,    # Full game instructions\n",
    "            'prompt': json.dumps(prompt),  # Current move instructions (dict dumped to string)\n",
    "        }\n",
    "\n",
    "        # Todo: actually call API\n",
    "        response = \"2 1022\"  # Hardcoded fake response\n",
    "        output = input.copy()\n",
    "        output['current_shape'] = prompt.get('current_shape')\n",
    "        output['last_shape'] = prompt.get('last_shape')\n",
    "        output['response'] = response\n",
    "        output['timestamp'] = datetime.datetime.now().isoformat()\n",
    "        output['valid_move'] = True # TODO Hardcoded, but need to write a function for checking\n",
    "        return output\n",
    "    except Exception as e:\n",
    "        return f\"An error occurred: {e}\"\n",
    "    \n",
    "# Valid moves example\n",
    "# 1023 -> 2 1022 -> 4 1020 512\n",
    "\n",
    "# Single example\n",
    "user_prompt = \"instructions/version1.txt\"\n",
    "prompt={\n",
    "    \"current_shape\": \"1023\", \n",
    "    \"last_shape\": \"\"\n",
    "}\n",
    "get_openai_response_fake(user_prompt, prompt)"
   ]
  },
  {
   "cell_type": "code",
   "execution_count": 4,
   "metadata": {},
   "outputs": [
    {
     "name": "stdout",
     "output_type": "stream",
     "text": [
      "{'user_prompt': 'instructions/version1.txt', 'prompt': '{\"current_shape\": \"1023\"}', 'current_shape': '1023', 'last_shape': None, 'response': '2 1022', 'timestamp': '2025-01-30T14:03:08.384481', 'valid_move': True}\n",
      "{'user_prompt': 'instructions/version1.txt', 'prompt': '{\"current_shape\": \"2 1022\"}', 'current_shape': '2 1022', 'last_shape': None, 'response': '2 1022', 'timestamp': '2025-01-30T14:03:08.384932', 'valid_move': True}\n",
      "{'user_prompt': 'instructions/version1.txt', 'prompt': '{\"current_shape\": \"2 1022\"}', 'current_shape': '2 1022', 'last_shape': None, 'response': '2 1022', 'timestamp': '2025-01-30T14:03:08.385012', 'valid_move': True}\n",
      "{'user_prompt': 'instructions/version1.txt', 'prompt': '{\"current_shape\": \"2 1022\"}', 'current_shape': '2 1022', 'last_shape': None, 'response': '2 1022', 'timestamp': '2025-01-30T14:03:08.385114', 'valid_move': True}\n",
      "{'user_prompt': 'instructions/version1.txt', 'prompt': '{\"current_shape\": \"2 1022\"}', 'current_shape': '2 1022', 'last_shape': None, 'response': '2 1022', 'timestamp': '2025-01-30T14:03:08.385161', 'valid_move': True}\n",
      "{'user_prompt': 'instructions/version1.txt', 'prompt': '{\"current_shape\": \"2 1022\"}', 'current_shape': '2 1022', 'last_shape': None, 'response': '2 1022', 'timestamp': '2025-01-30T14:03:08.385215', 'valid_move': True}\n",
      "{'user_prompt': 'instructions/version1.txt', 'prompt': '{\"current_shape\": \"2 1022\"}', 'current_shape': '2 1022', 'last_shape': None, 'response': '2 1022', 'timestamp': '2025-01-30T14:03:08.385291', 'valid_move': True}\n",
      "{'user_prompt': 'instructions/version1.txt', 'prompt': '{\"current_shape\": \"2 1022\"}', 'current_shape': '2 1022', 'last_shape': None, 'response': '2 1022', 'timestamp': '2025-01-30T14:03:08.385317', 'valid_move': True}\n",
      "{'user_prompt': 'instructions/version1.txt', 'prompt': '{\"current_shape\": \"2 1022\"}', 'current_shape': '2 1022', 'last_shape': None, 'response': '2 1022', 'timestamp': '2025-01-30T14:03:08.385357', 'valid_move': True}\n",
      "{'user_prompt': 'instructions/version1.txt', 'prompt': '{\"current_shape\": \"2 1022\"}', 'current_shape': '2 1022', 'last_shape': None, 'response': '2 1022', 'timestamp': '2025-01-30T14:03:08.385443', 'valid_move': True}\n"
     ]
    }
   ],
   "source": [
    "# Interaction loop for game\n",
    "\n",
    "THRESHOLD_TOTAL_MOVES = 10\n",
    "THRESHOLD_TOTAL_RETRIES = 10\n",
    "\n",
    "user_prompt = \"instructions/version1.txt\"\n",
    "prompt={\n",
    "    \"current_shape\": \"1023\", \n",
    "    \"last_shape\": \"\"\n",
    "}\n",
    "\n",
    "move_count = 0\n",
    "retry_count = 0\n",
    "\n",
    "while move_count < THRESHOLD_TOTAL_MOVES and retry_count < THRESHOLD_TOTAL_RETRIES:\n",
    "    output = get_openai_response_fake(user_prompt, prompt)\n",
    "    print(output)\n",
    "    if output['valid_move']:\n",
    "        move_count += 1\n",
    "        retry_count = 0\n",
    "        prompt['current_shape'] = output['response']\n",
    "    else:\n",
    "        retry_count += 1\n",
    "        print(f\"Invalid move, retrying... {retry_count} / {THRESHOLD_TOTAL_RETRIES}\")\n",
    "    \n",
    "    # TODO: save response dictionary to file (append as you go)\n"
   ]
  }
 ],
 "metadata": {
  "kernelspec": {
   "display_name": "default_env",
   "language": "python",
   "name": "python3"
  },
  "language_info": {
   "codemirror_mode": {
    "name": "ipython",
    "version": 3
   },
   "file_extension": ".py",
   "mimetype": "text/x-python",
   "name": "python",
   "nbconvert_exporter": "python",
   "pygments_lexer": "ipython3",
   "version": "3.8.20"
  }
 },
 "nbformat": 4,
 "nbformat_minor": 2
}
